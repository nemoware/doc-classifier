{
 "cells": [
  {
   "cell_type": "markdown",
   "id": "33eba9de-fe30-434c-b668-670f4192d874",
   "metadata": {},
   "source": [
    "# Document classification"
   ]
  },
  {
   "cell_type": "code",
   "execution_count": 2,
   "id": "a30dd6f8",
   "metadata": {},
   "outputs": [
    {
     "name": "stdout",
     "output_type": "stream",
     "text": [
      "tensorflow-estimator         2.7.0\n",
      "tensorflow-gpu               2.7.0\n",
      "tensorflow-io-gcs-filesystem 0.22.0\n"
     ]
    }
   ],
   "source": [
    "!pip list | grep tensorflow"
   ]
  },
  {
   "cell_type": "code",
   "execution_count": 1,
   "id": "a9100a03",
   "metadata": {},
   "outputs": [
    {
     "name": "stdout",
     "output_type": "stream",
     "text": [
      "Thu Dec  9 13:02:22 2021       \n",
      "+-----------------------------------------------------------------------------+\n",
      "| NVIDIA-SMI 460.91.03    Driver Version: 460.91.03    CUDA Version: 11.2     |\n",
      "|-------------------------------+----------------------+----------------------+\n",
      "| GPU  Name        Persistence-M| Bus-Id        Disp.A | Volatile Uncorr. ECC |\n",
      "| Fan  Temp  Perf  Pwr:Usage/Cap|         Memory-Usage | GPU-Util  Compute M. |\n",
      "|                               |                      |               MIG M. |\n",
      "|===============================+======================+======================|\n",
      "|   0  A100-PCIE-40GB      Off  | 00000000:01:00.0 Off |                    0 |\n",
      "| N/A   25C    P0    35W / 250W |  39273MiB / 40536MiB |      0%      Default |\n",
      "|                               |                      |             Disabled |\n",
      "+-------------------------------+----------------------+----------------------+\n",
      "                                                                               \n",
      "+-----------------------------------------------------------------------------+\n",
      "| Processes:                                                                  |\n",
      "|  GPU   GI   CI        PID   Type   Process name                  GPU Memory |\n",
      "|        ID   ID                                                   Usage      |\n",
      "|=============================================================================|\n",
      "|    0   N/A  N/A      3450      C   ...-queries/.venv/bin/python    38687MiB |\n",
      "|    0   N/A  N/A    164451      C   python                            583MiB |\n",
      "+-----------------------------------------------------------------------------+\n"
     ]
    }
   ],
   "source": [
    "!nvidia-smi"
   ]
  },
  {
   "cell_type": "code",
   "execution_count": 77,
   "id": "8b4c7a60-ff3e-482b-b440-646b9fce12c7",
   "metadata": {},
   "outputs": [
    {
     "name": "stdout",
     "output_type": "stream",
     "text": [
      "4.12.5\n"
     ]
    }
   ],
   "source": [
    "import transformers\n",
    "\n",
    "print(transformers.__version__)"
   ]
  },
  {
   "cell_type": "code",
   "execution_count": 207,
   "id": "ab00f6eb-4a95-42a4-b246-f82211303b23",
   "metadata": {},
   "outputs": [],
   "source": [
    "# model_checkpoint = \"distilbert-base-uncased\"\n",
    "model_checkpoint = \"sberbank-ai/ruRoberta-large\"\n",
    "\n",
    "batch_size = 16"
   ]
  },
  {
   "cell_type": "markdown",
   "id": "acc353ce-6555-421b-a5fc-108fad734d2f",
   "metadata": {},
   "source": [
    "## Dataset"
   ]
  },
  {
   "cell_type": "code",
   "execution_count": 117,
   "id": "162acbf7-80cf-4041-ae65-50b2434e2f4d",
   "metadata": {},
   "outputs": [
    {
     "data": {
      "text/html": [
       "<div>\n",
       "<style scoped>\n",
       "    .dataframe tbody tr th:only-of-type {\n",
       "        vertical-align: middle;\n",
       "    }\n",
       "\n",
       "    .dataframe tbody tr th {\n",
       "        vertical-align: top;\n",
       "    }\n",
       "\n",
       "    .dataframe thead th {\n",
       "        text-align: right;\n",
       "    }\n",
       "</style>\n",
       "<table border=\"1\" class=\"dataframe\">\n",
       "  <thead>\n",
       "    <tr style=\"text-align: right;\">\n",
       "      <th></th>\n",
       "      <th>documentType</th>\n",
       "      <th>path</th>\n",
       "      <th>text</th>\n",
       "    </tr>\n",
       "  </thead>\n",
       "  <tbody>\n",
       "    <tr>\n",
       "      <th>0</th>\n",
       "      <td>AGREEMENT</td>\n",
       "      <td>ДД по практикам\\Исключена - Практика судебной ...</td>\n",
       "      <td>1.1. Поверенный обязуется оказывать Доверителю...</td>\n",
       "    </tr>\n",
       "    <tr>\n",
       "      <th>1</th>\n",
       "      <td>SUPPLEMENTARY_AGREEMENT</td>\n",
       "      <td>ДД по практикам\\Исключена - Практика судебной ...</td>\n",
       "      <td>заключено ______________________ 2020 года(1)\\...</td>\n",
       "    </tr>\n",
       "    <tr>\n",
       "      <th>2</th>\n",
       "      <td>CONTRACT</td>\n",
       "      <td>ДД по практикам\\Практика коммерческой логистик...</td>\n",
       "      <td>2.1. В соответствии с условиями настоящего Дог...</td>\n",
       "    </tr>\n",
       "    <tr>\n",
       "      <th>3</th>\n",
       "      <td>SUPPLEMENTARY_AGREEMENT</td>\n",
       "      <td>ДД по практикам\\Практика коммерческой логистик...</td>\n",
       "      <td>г. Санкт-Петербург                            ...</td>\n",
       "    </tr>\n",
       "    <tr>\n",
       "      <th>4</th>\n",
       "      <td>CONTRACT</td>\n",
       "      <td>ДД по практикам\\Практика коммерческой логистик...</td>\n",
       "      <td>1.1. Перевозчик в порядке и на условиях, устан...</td>\n",
       "    </tr>\n",
       "  </tbody>\n",
       "</table>\n",
       "</div>"
      ],
      "text/plain": [
       "              documentType                                               path  \\\n",
       "0                AGREEMENT  ДД по практикам\\Исключена - Практика судебной ...   \n",
       "1  SUPPLEMENTARY_AGREEMENT  ДД по практикам\\Исключена - Практика судебной ...   \n",
       "2                 CONTRACT  ДД по практикам\\Практика коммерческой логистик...   \n",
       "3  SUPPLEMENTARY_AGREEMENT  ДД по практикам\\Практика коммерческой логистик...   \n",
       "4                 CONTRACT  ДД по практикам\\Практика коммерческой логистик...   \n",
       "\n",
       "                                                text  \n",
       "0  1.1. Поверенный обязуется оказывать Доверителю...  \n",
       "1  заключено ______________________ 2020 года(1)\\...  \n",
       "2  2.1. В соответствии с условиями настоящего Дог...  \n",
       "3  г. Санкт-Петербург                            ...  \n",
       "4  1.1. Перевозчик в порядке и на условиях, устан...  "
      ]
     },
     "execution_count": 117,
     "metadata": {},
     "output_type": "execute_result"
    }
   ],
   "source": [
    "import pandas as pd\n",
    "\n",
    "training_columns=['path', 'text']\n",
    "df = pd.read_excel(open('classifier.xlsx', 'rb'), sheet_name='good', index_col=0)\n",
    "df = df[['documentType']+training_columns]\n",
    "df.head()"
   ]
  },
  {
   "cell_type": "code",
   "execution_count": 118,
   "id": "8802e9f0-7e62-4fec-b11f-5d1c0df6d18d",
   "metadata": {},
   "outputs": [
    {
     "data": {
      "text/plain": [
       "726"
      ]
     },
     "execution_count": 118,
     "metadata": {},
     "output_type": "execute_result"
    }
   ],
   "source": [
    "len(df)"
   ]
  },
  {
   "cell_type": "code",
   "execution_count": 119,
   "id": "f8fbab74-e7c4-4540-95d5-b923820a53db",
   "metadata": {},
   "outputs": [
    {
     "data": {
      "text/html": [
       "<div>\n",
       "<style scoped>\n",
       "    .dataframe tbody tr th:only-of-type {\n",
       "        vertical-align: middle;\n",
       "    }\n",
       "\n",
       "    .dataframe tbody tr th {\n",
       "        vertical-align: top;\n",
       "    }\n",
       "\n",
       "    .dataframe thead th {\n",
       "        text-align: right;\n",
       "    }\n",
       "</style>\n",
       "<table border=\"1\" class=\"dataframe\">\n",
       "  <thead>\n",
       "    <tr style=\"text-align: right;\">\n",
       "      <th></th>\n",
       "      <th>documentType</th>\n",
       "      <th>path</th>\n",
       "      <th>text</th>\n",
       "    </tr>\n",
       "  </thead>\n",
       "  <tbody>\n",
       "    <tr>\n",
       "      <th>0</th>\n",
       "      <td>AGREEMENT</td>\n",
       "      <td>Исключена - Практика судебной защиты</td>\n",
       "      <td>1.1. Поверенный обязуется оказывать Доверителю...</td>\n",
       "    </tr>\n",
       "    <tr>\n",
       "      <th>1</th>\n",
       "      <td>SUPPLEMENTARY_AGREEMENT</td>\n",
       "      <td>Исключена - Практика судебной защиты</td>\n",
       "      <td>заключено ______________________ 2020 года(1)\\...</td>\n",
       "    </tr>\n",
       "    <tr>\n",
       "      <th>2</th>\n",
       "      <td>CONTRACT</td>\n",
       "      <td>Практика коммерческой логистики</td>\n",
       "      <td>2.1. В соответствии с условиями настоящего Дог...</td>\n",
       "    </tr>\n",
       "    <tr>\n",
       "      <th>3</th>\n",
       "      <td>SUPPLEMENTARY_AGREEMENT</td>\n",
       "      <td>Практика коммерческой логистики</td>\n",
       "      <td>г. Санкт-Петербург                            ...</td>\n",
       "    </tr>\n",
       "    <tr>\n",
       "      <th>4</th>\n",
       "      <td>CONTRACT</td>\n",
       "      <td>Практика коммерческой логистики</td>\n",
       "      <td>1.1. Перевозчик в порядке и на условиях, устан...</td>\n",
       "    </tr>\n",
       "  </tbody>\n",
       "</table>\n",
       "</div>"
      ],
      "text/plain": [
       "              documentType                                  path  \\\n",
       "0                AGREEMENT  Исключена - Практика судебной защиты   \n",
       "1  SUPPLEMENTARY_AGREEMENT  Исключена - Практика судебной защиты   \n",
       "2                 CONTRACT       Практика коммерческой логистики   \n",
       "3  SUPPLEMENTARY_AGREEMENT       Практика коммерческой логистики   \n",
       "4                 CONTRACT       Практика коммерческой логистики   \n",
       "\n",
       "                                                text  \n",
       "0  1.1. Поверенный обязуется оказывать Доверителю...  \n",
       "1  заключено ______________________ 2020 года(1)\\...  \n",
       "2  2.1. В соответствии с условиями настоящего Дог...  \n",
       "3  г. Санкт-Петербург                            ...  \n",
       "4  1.1. Перевозчик в порядке и на условиях, устан...  "
      ]
     },
     "execution_count": 119,
     "metadata": {},
     "output_type": "execute_result"
    }
   ],
   "source": [
    "from pathlib import Path\n",
    "import os\n",
    "\n",
    "df['path'] = df['path'].transform(lambda x: Path(x.replace('\\\\','/')).parent.parts[1])\n",
    "df.head()\n"
   ]
  },
  {
   "cell_type": "code",
   "execution_count": 120,
   "id": "42c6dca7-6e59-4e42-826c-5a46d5cb5f71",
   "metadata": {},
   "outputs": [],
   "source": [
    "df = df[df.apply(lambda row: not row['path'].startswith('Исключена'), axis=1)]"
   ]
  },
  {
   "cell_type": "code",
   "execution_count": 121,
   "id": "d1d99294-6a26-4a0c-a519-eb09ebaa41fe",
   "metadata": {},
   "outputs": [
    {
     "name": "stdout",
     "output_type": "stream",
     "text": [
      "['Практика коммерческой логистики',\n",
      " 'Практика недропользования и экологии',\n",
      " 'Практика поддержки региональных, розничных продаж и клиентского сервиса',\n",
      " 'Практика правового сопровождения закупок МТР и услуг общего профиля',\n",
      " 'Практика правового сопровождения земельных отношений и сделок с недвижимым '\n",
      " 'имуществом',\n",
      " 'Практика правового сопровождения операционной деятельности БРД',\n",
      " 'Практика правового сопровождения переработки и инфраструктуры',\n",
      " 'Практика правовой поддержки брендов',\n",
      " 'Практика правовой поддержки использования и коммерциализации ИС',\n",
      " 'Практика правовой поддержки создания и приобретения ИС',\n",
      " 'Практика промышленной безопасности и охраны труда',\n",
      " 'Практика финансового и конкурентного права',\n",
      " 'Практика экспорта, оптовых продаж и сбыта бизнес-единиц (БЕ)']\n"
     ]
    }
   ],
   "source": [
    "import pprint as pp\n",
    "categories = df['path'].unique()\n",
    "pp.pprint(sorted(categories))"
   ]
  },
  {
   "cell_type": "code",
   "execution_count": 123,
   "id": "687b934c-f03a-4b6f-b55c-f515e0498f27",
   "metadata": {},
   "outputs": [],
   "source": [
    "import seaborn as sns\n",
    "from pylab import rcParams\n",
    "import matplotlib.pyplot as plt\n",
    "\n",
    "%matplotlib inline\n",
    "# %config InlineBackend.figure_format='retina'\n",
    "%config InlineBackend.figure_format='png'\n",
    "\n",
    "\n",
    "rcParams['figure.figsize'] = 12, 8\n",
    "sns.set(style='whitegrid', palette='muted', font_scale=1.2)"
   ]
  },
  {
   "cell_type": "code",
   "execution_count": 124,
   "id": "1758cf66-341d-48a8-abaa-0d027b9d5c96",
   "metadata": {},
   "outputs": [
    {
     "data": {
      "text/plain": [
       "Text(0.5, 1.0, 'Количество текстов по темам')"
      ]
     },
     "execution_count": 124,
     "metadata": {},
     "output_type": "execute_result"
    },
    {
     "data": {
      "image/png": "[encoded data removed]",
      "text/plain": [
       "<Figure size 864x576 with 1 Axes>"
      ]
     },
     "metadata": {},
     "output_type": "display_data"
    }
   ],
   "source": [
    "sns.countplot(data=df[training_columns], y='path')\n",
    "plt.title(\"Количество текстов по темам\")"
   ]
  },
  {
   "cell_type": "code",
   "execution_count": 131,
   "id": "7f894e04-7781-4ecc-89e3-26fec7b68f61",
   "metadata": {},
   "outputs": [
    {
     "data": {
      "text/plain": [
       "'2.1. В соответствии с условиями настоящего Договора Заказчик поручает, а Исполнитель принимает на себя обязанности оказать Заказчику следующую совокупность услуг:_x000D_\\n2.1.1. Организация приема нефтепродуктов Заказчика (в дальнейшем «Груз») путем прямого слива Груза в порту Архангельск (в дальнейшем «Место погрузки») с вагонов-цистерн Заказчика в танкер Исполнителя._x000D_\\n2.1.2. Перевозка Груза в танкере Исполнителя по маршруту порт Архангельск – порты Чукотского автономного округа (Певек и Анадырь) в период летней арктической навигации с доставкой и выдачей Груза указанному Заказчиком грузополучателю в конечный порт (Анадырь) не позднее 01 октября 2021 года._x000D_\\n2.2. Стороны определили период оказания услуг по настоящему Договору с 01 июня 2021 года по 31 декабря 2021 года._x000D_\\n2.3. Объем перегружаемого и перевозимого Груза, в том числе топливо для реактивных двигателей марки ТС-1 в период, определенный Сторонами в пункте 2.2 настоящего Договора, составляет до 1\\xa0000 тонн. При этом перевозка Груза в порты Чукотского автономного округа (Певек и Анадырь) осуществляется танкером Исполнителя двумя партиями (рейсами) в сроки, согласованные с Заказчиком в Графике перевозки нефтепродуктов, подписанным Заказчиком и Исполнителем не позднее 01 июля 2021 года для\\n1-ой партии (рейса) и не позднее 01 августа 2021 года для 2-ой партии (рейса)._x000D_\\n2.4. Тип перевозимого груза: опасный груз 3 класса опасности._x000D_\\n'"
      ]
     },
     "execution_count": 131,
     "metadata": {},
     "output_type": "execute_result"
    }
   ],
   "source": [
    "df['text'][2]"
   ]
  },
  {
   "cell_type": "code",
   "execution_count": 210,
   "id": "e3964c50-a7ae-4a22-9f48-7e2e2331d4eb",
   "metadata": {
    "tags": []
   },
   "outputs": [
    {
     "name": "stdout",
     "output_type": "stream",
     "text": [
      "huggingface/tokenizers: The current process just got forked, after parallelism has already been used. Disabling parallelism to avoid deadlocks...\n",
      "To disable this warning, you can either:\n",
      "\t- Avoid using `tokenizers` before the fork if possible\n",
      "\t- Explicitly set the environment variable TOKENIZERS_PARALLELISM=(true | false)\n",
      "Requirement already satisfied: datasets in ./.venv/lib/python3.8/site-packages (1.16.1)\n",
      "Requirement already satisfied: packaging in ./.venv/lib/python3.8/site-packages (from datasets) (21.3)\n",
      "Requirement already satisfied: huggingface-hub<1.0.0,>=0.1.0 in ./.venv/lib/python3.8/site-packages (from datasets) (0.2.1)\n",
      "Requirement already satisfied: tqdm>=4.62.1 in ./.venv/lib/python3.8/site-packages (from datasets) (4.62.3)\n",
      "Requirement already satisfied: aiohttp in ./.venv/lib/python3.8/site-packages (from datasets) (3.8.1)\n",
      "Requirement already satisfied: xxhash in ./.venv/lib/python3.8/site-packages (from datasets) (2.0.2)\n",
      "Requirement already satisfied: requests>=2.19.0 in ./.venv/lib/python3.8/site-packages (from datasets) (2.26.0)\n",
      "Requirement already satisfied: pandas in ./.venv/lib/python3.8/site-packages (from datasets) (1.3.4)\n",
      "Requirement already satisfied: multiprocess in ./.venv/lib/python3.8/site-packages (from datasets) (0.70.12.2)\n",
      "Requirement already satisfied: fsspec[http]>=2021.05.0 in ./.venv/lib/python3.8/site-packages (from datasets) (2021.11.1)\n",
      "Requirement already satisfied: dill in ./.venv/lib/python3.8/site-packages (from datasets) (0.3.4)\n",
      "Requirement already satisfied: numpy>=1.17 in ./.venv/lib/python3.8/site-packages (from datasets) (1.21.4)\n",
      "Requirement already satisfied: pyarrow!=4.0.0,>=3.0.0 in ./.venv/lib/python3.8/site-packages (from datasets) (6.0.1)\n",
      "Requirement already satisfied: typing-extensions>=3.7.4.3 in ./.venv/lib/python3.8/site-packages (from huggingface-hub<1.0.0,>=0.1.0->datasets) (4.0.1)\n",
      "Requirement already satisfied: pyyaml in ./.venv/lib/python3.8/site-packages (from huggingface-hub<1.0.0,>=0.1.0->datasets) (6.0)\n",
      "Requirement already satisfied: filelock in ./.venv/lib/python3.8/site-packages (from huggingface-hub<1.0.0,>=0.1.0->datasets) (3.4.0)\n",
      "Requirement already satisfied: pyparsing!=3.0.5,>=2.0.2 in ./.venv/lib/python3.8/site-packages (from packaging->datasets) (3.0.6)\n",
      "Requirement already satisfied: urllib3<1.27,>=1.21.1 in ./.venv/lib/python3.8/site-packages (from requests>=2.19.0->datasets) (1.26.7)\n",
      "Requirement already satisfied: certifi>=2017.4.17 in ./.venv/lib/python3.8/site-packages (from requests>=2.19.0->datasets) (2021.10.8)\n",
      "Requirement already satisfied: idna<4,>=2.5 in ./.venv/lib/python3.8/site-packages (from requests>=2.19.0->datasets) (3.3)\n",
      "Requirement already satisfied: charset-normalizer~=2.0.0 in ./.venv/lib/python3.8/site-packages (from requests>=2.19.0->datasets) (2.0.8)\n",
      "Requirement already satisfied: frozenlist>=1.1.1 in ./.venv/lib/python3.8/site-packages (from aiohttp->datasets) (1.2.0)\n",
      "Requirement already satisfied: attrs>=17.3.0 in ./.venv/lib/python3.8/site-packages (from aiohttp->datasets) (21.2.0)\n",
      "Requirement already satisfied: yarl<2.0,>=1.0 in ./.venv/lib/python3.8/site-packages (from aiohttp->datasets) (1.7.2)\n",
      "Requirement already satisfied: multidict<7.0,>=4.5 in ./.venv/lib/python3.8/site-packages (from aiohttp->datasets) (5.2.0)\n",
      "Requirement already satisfied: aiosignal>=1.1.2 in ./.venv/lib/python3.8/site-packages (from aiohttp->datasets) (1.2.0)\n",
      "Requirement already satisfied: async-timeout<5.0,>=4.0.0a3 in ./.venv/lib/python3.8/site-packages (from aiohttp->datasets) (4.0.1)\n",
      "Requirement already satisfied: python-dateutil>=2.7.3 in ./.venv/lib/python3.8/site-packages (from pandas->datasets) (2.8.2)\n",
      "Requirement already satisfied: pytz>=2017.3 in ./.venv/lib/python3.8/site-packages (from pandas->datasets) (2021.3)\n",
      "Requirement already satisfied: six>=1.5 in ./.venv/lib/python3.8/site-packages (from python-dateutil>=2.7.3->pandas->datasets) (1.16.0)\n",
      "huggingface/tokenizers: The current process just got forked, after parallelism has already been used. Disabling parallelism to avoid deadlocks...\n",
      "To disable this warning, you can either:\n",
      "\t- Avoid using `tokenizers` before the fork if possible\n",
      "\t- Explicitly set the environment variable TOKENIZERS_PARALLELISM=(true | false)\n",
      "Requirement already satisfied: scikit-learn in ./.venv/lib/python3.8/site-packages (1.0.1)\n",
      "Requirement already satisfied: scipy>=1.1.0 in ./.venv/lib/python3.8/site-packages (from scikit-learn) (1.7.3)\n",
      "Requirement already satisfied: threadpoolctl>=2.0.0 in ./.venv/lib/python3.8/site-packages (from scikit-learn) (3.0.0)\n",
      "Requirement already satisfied: joblib>=0.11 in ./.venv/lib/python3.8/site-packages (from scikit-learn) (1.1.0)\n",
      "Requirement already satisfied: numpy>=1.14.6 in ./.venv/lib/python3.8/site-packages (from scikit-learn) (1.21.4)\n",
      "huggingface/tokenizers: The current process just got forked, after parallelism has already been used. Disabling parallelism to avoid deadlocks...\n",
      "To disable this warning, you can either:\n",
      "\t- Avoid using `tokenizers` before the fork if possible\n",
      "\t- Explicitly set the environment variable TOKENIZERS_PARALLELISM=(true | false)\n",
      "Collecting torch\n",
      "  Using cached torch-1.10.0-cp38-cp38-manylinux1_x86_64.whl (881.9 MB)\n",
      "Requirement already satisfied: typing-extensions in ./.venv/lib/python3.8/site-packages (from torch) (4.0.1)\n",
      "Installing collected packages: torch\n",
      "Successfully installed torch-1.10.0\n"
     ]
    }
   ],
   "source": [
    "!pip install datasets\n",
    "!pip install -U scikit-learn\n",
    "!pip3 install torch"
   ]
  },
  {
   "cell_type": "code",
   "execution_count": 173,
   "id": "185f4ab0-61e2-48a3-8769-15af59730961",
   "metadata": {},
   "outputs": [
    {
     "data": {
      "text/plain": [
       "ClassLabel(num_classes=13, names=['Практика коммерческой логистики', 'Практика недропользования и экологии', 'Практика поддержки региональных, розничных продаж и клиентского сервиса', 'Практика правового сопровождения закупок МТР и услуг общего профиля', 'Практика правового сопровождения земельных отношений и сделок с недвижимым имуществом', 'Практика правового сопровождения операционной деятельности БРД', 'Практика правового сопровождения переработки и инфраструктуры', 'Практика правовой поддержки брендов', 'Практика правовой поддержки использования и коммерциализации ИС', 'Практика правовой поддержки создания и приобретения ИС', 'Практика промышленной безопасности и охраны труда', 'Практика финансового и конкурентного права', 'Практика экспорта, оптовых продаж и сбыта бизнес-единиц (БЕ)'], names_file=None, id=None)"
      ]
     },
     "execution_count": 173,
     "metadata": {},
     "output_type": "execute_result"
    }
   ],
   "source": [
    "import datasets\n",
    "categories = categories.tolist()\n",
    "# datasets.ClassLabel(names=categories)"
   ]
  },
  {
   "cell_type": "code",
   "execution_count": 188,
   "id": "0f2364c2-3898-4a16-a697-638b20c2443f",
   "metadata": {
    "tags": []
   },
   "outputs": [],
   "source": [
    "import tensorflow as tf\n",
    "from datasets import Dataset\n",
    "categories_feature=datasets.ClassLabel(names=categories)\n",
    "features = datasets.Features({'path': categories_feature})\n",
    "\n",
    "dataset = Dataset.from_pandas(df[training_columns])"
   ]
  },
  {
   "cell_type": "code",
   "execution_count": 189,
   "id": "36d20b95-1b27-471b-a4b8-f6d00c2a0e70",
   "metadata": {},
   "outputs": [
    {
     "data": {
      "text/plain": [
       "Dataset({\n",
       "    features: ['path', 'text', '__index_level_0__'],\n",
       "    num_rows: 724\n",
       "})"
      ]
     },
     "execution_count": 189,
     "metadata": {},
     "output_type": "execute_result"
    }
   ],
   "source": [
    "dataset"
   ]
  },
  {
   "cell_type": "code",
   "execution_count": 192,
   "id": "565b5084-580c-42ec-9d16-c770c2f7c8fb",
   "metadata": {},
   "outputs": [
    {
     "data": {
      "text/plain": [
       "{'path': Value(dtype='string', id=None),\n",
       " 'text': Value(dtype='string', id=None),\n",
       " '__index_level_0__': Value(dtype='int64', id=None)}"
      ]
     },
     "execution_count": 192,
     "metadata": {},
     "output_type": "execute_result"
    }
   ],
   "source": [
    "dataset.features"
   ]
  },
  {
   "cell_type": "code",
   "execution_count": 194,
   "id": "e2fa70db-c8b0-413c-9baa-ca35c7e8428f",
   "metadata": {},
   "outputs": [
    {
     "data": {
      "application/vnd.jupyter.widget-view+json": {
       "model_id": "9548b37d96194caa91da4a1407d0dcd2",
       "version_major": 2,
       "version_minor": 0
      },
      "text/plain": [
       "  0%|          | 0/724 [00:00<?, ?ex/s]"
      ]
     },
     "metadata": {},
     "output_type": "display_data"
    }
   ],
   "source": [
    "def convert_to_class_label(row):\n",
    "    row['path'] = categories_feature.str2int(row['path'])\n",
    "    return row\n",
    "updated_dataset = dataset.map(convert_to_class_label)"
   ]
  },
  {
   "cell_type": "markdown",
   "id": "924d515d-eb4c-4a96-8083-09949238eb35",
   "metadata": {},
   "source": [
    "### casting features"
   ]
  },
  {
   "cell_type": "code",
   "execution_count": 198,
   "id": "6f2e324a-b65e-4797-bbb0-40a1e11cc19e",
   "metadata": {},
   "outputs": [
    {
     "data": {
      "text/plain": [
       "{'path': ClassLabel(num_classes=13, names=['Практика коммерческой логистики', 'Практика недропользования и экологии', 'Практика поддержки региональных, розничных продаж и клиентского сервиса', 'Практика правового сопровождения закупок МТР и услуг общего профиля', 'Практика правового сопровождения земельных отношений и сделок с недвижимым имуществом', 'Практика правового сопровождения операционной деятельности БРД', 'Практика правового сопровождения переработки и инфраструктуры', 'Практика правовой поддержки брендов', 'Практика правовой поддержки использования и коммерциализации ИС', 'Практика правовой поддержки создания и приобретения ИС', 'Практика промышленной безопасности и охраны труда', 'Практика финансового и конкурентного права', 'Практика экспорта, оптовых продаж и сбыта бизнес-единиц (БЕ)'], names_file=None, id=None),\n",
       " 'text': Value(dtype='string', id=None),\n",
       " '__index_level_0__': Value(dtype='int64', id=None)}"
      ]
     },
     "execution_count": 198,
     "metadata": {},
     "output_type": "execute_result"
    }
   ],
   "source": [
    "updated_dataset.features"
   ]
  },
  {
   "cell_type": "code",
   "execution_count": 197,
   "id": "dd9474de-7219-4479-aa28-a2f2bc9a50bd",
   "metadata": {},
   "outputs": [
    {
     "data": {
      "application/vnd.jupyter.widget-view+json": {
       "model_id": "b380ed73b7f045fc80a3d113d6fc9983",
       "version_major": 2,
       "version_minor": 0
      },
      "text/plain": [
       "Casting the dataset:   0%|          | 0/1 [00:00<?, ?ba/s]"
      ]
     },
     "metadata": {},
     "output_type": "display_data"
    }
   ],
   "source": [
    "from datasets import ClassLabel, Value\n",
    "new_features = updated_dataset.features.copy()\n",
    "new_features[\"path\"] = ClassLabel(names=categories)\n",
    "\n",
    "updated_dataset = updated_dataset.cast(new_features)"
   ]
  },
  {
   "cell_type": "code",
   "execution_count": 200,
   "id": "16ecbe1a-014c-4201-8150-926e4e2f6806",
   "metadata": {},
   "outputs": [
    {
     "data": {
      "text/plain": [
       "[6, 4, 5, 7, 5]"
      ]
     },
     "execution_count": 200,
     "metadata": {},
     "output_type": "execute_result"
    }
   ],
   "source": [
    "updated_dataset=updated_dataset.shuffle(seed=42)\n",
    "updated_dataset['path'][:5]"
   ]
  },
  {
   "cell_type": "code",
   "execution_count": 201,
   "id": "b39fac8d-e834-44c9-8fef-4136571b5a5c",
   "metadata": {},
   "outputs": [
    {
     "data": {
      "text/plain": [
       "DatasetDict({\n",
       "    train: Dataset({\n",
       "        features: ['path', 'text', '__index_level_0__'],\n",
       "        num_rows: 651\n",
       "    })\n",
       "    test: Dataset({\n",
       "        features: ['path', 'text', '__index_level_0__'],\n",
       "        num_rows: 73\n",
       "    })\n",
       "})"
      ]
     },
     "execution_count": 201,
     "metadata": {},
     "output_type": "execute_result"
    }
   ],
   "source": [
    "work_dataset = updated_dataset.train_test_split(test_size=0.1)\n",
    "work_dataset"
   ]
  },
  {
   "cell_type": "markdown",
   "id": "a7384820-e0d6-48da-98cb-65f1c3e50187",
   "metadata": {},
   "source": [
    "## Metric"
   ]
  },
  {
   "cell_type": "code",
   "execution_count": 151,
   "id": "fbc63356-56fc-4e13-b5f9-61194d6b2c6c",
   "metadata": {},
   "outputs": [
    {
     "name": "stdout",
     "output_type": "stream",
     "text": [
      "Metric(name: \"glue\", features: {'predictions': Value(dtype='int64', id=None), 'references': Value(dtype='int64', id=None)}, usage: \"\"\"\n",
      "Compute GLUE evaluation metric associated to each GLUE dataset.\n",
      "Args:\n",
      "    predictions: list of predictions to score.\n",
      "        Each translation should be tokenized into a list of tokens.\n",
      "    references: list of lists of references for each translation.\n",
      "        Each reference should be tokenized into a list of tokens.\n",
      "Returns: depending on the GLUE subset, one or several of:\n",
      "    \"accuracy\": Accuracy\n",
      "    \"f1\": F1 score\n",
      "    \"pearson\": Pearson Correlation\n",
      "    \"spearmanr\": Spearman Correlation\n",
      "    \"matthews_correlation\": Matthew Correlation\n",
      "Examples:\n",
      "\n",
      "    >>> glue_metric = datasets.load_metric('glue', 'sst2')  # 'sst2' or any of [\"mnli\", \"mnli_mismatched\", \"mnli_matched\", \"qnli\", \"rte\", \"wnli\", \"hans\"]\n",
      "    >>> references = [0, 1]\n",
      "    >>> predictions = [0, 1]\n",
      "    >>> results = glue_metric.compute(predictions=predictions, references=references)\n",
      "    >>> print(results)\n",
      "    {'accuracy': 1.0}\n",
      "\n",
      "    >>> glue_metric = datasets.load_metric('glue', 'mrpc')  # 'mrpc' or 'qqp'\n",
      "    >>> references = [0, 1]\n",
      "    >>> predictions = [0, 1]\n",
      "    >>> results = glue_metric.compute(predictions=predictions, references=references)\n",
      "    >>> print(results)\n",
      "    {'accuracy': 1.0, 'f1': 1.0}\n",
      "\n",
      "    >>> glue_metric = datasets.load_metric('glue', 'stsb')\n",
      "    >>> references = [0., 1., 2., 3., 4., 5.]\n",
      "    >>> predictions = [0., 1., 2., 3., 4., 5.]\n",
      "    >>> results = glue_metric.compute(predictions=predictions, references=references)\n",
      "    >>> print({\"pearson\": round(results[\"pearson\"], 2), \"spearmanr\": round(results[\"spearmanr\"], 2)})\n",
      "    {'pearson': 1.0, 'spearmanr': 1.0}\n",
      "\n",
      "    >>> glue_metric = datasets.load_metric('glue', 'cola')\n",
      "    >>> references = [0, 1]\n",
      "    >>> predictions = [0, 1]\n",
      "    >>> results = glue_metric.compute(predictions=predictions, references=references)\n",
      "    >>> print(results)\n",
      "    {'matthews_correlation': 1.0}\n",
      "\"\"\", stored examples: 0)\n"
     ]
    }
   ],
   "source": [
    "from datasets import load_dataset, load_metric\n",
    "metric = load_metric('glue','mrpc')\n",
    "\n",
    "pp.pprint(metric)"
   ]
  },
  {
   "cell_type": "markdown",
   "id": "fbd8d0c6-fcfe-483b-ab61-f445cabae14e",
   "metadata": {},
   "source": [
    "## Preprocessing data"
   ]
  },
  {
   "cell_type": "code",
   "execution_count": 79,
   "id": "eea44de2-9c7c-4508-b75f-ddc9a5603eb3",
   "metadata": {},
   "outputs": [],
   "source": [
    "from transformers import AutoTokenizer\n",
    "\n",
    "tokenizer = AutoTokenizer.from_pretrained(model_checkpoint)"
   ]
  },
  {
   "cell_type": "code",
   "execution_count": 152,
   "id": "5a4b451d-622b-4880-8881-39eb324f4a71",
   "metadata": {},
   "outputs": [
    {
     "data": {
      "text/plain": [
       "{'input_ids': [1, 22, 18, 21, 18, 378, 7529, 280, 32863, 11388, 20429, 264, 5229, 340, 1445, 4935, 456, 16, 376, 37569, 540, 11688, 324, 830, 10044, 15236, 5229, 340, 15963, 15958, 40612, 7573, 30, 203, 22, 18, 21, 18, 21, 18, 14841, 9218, 18609, 28718, 18054, 733, 5229, 340, 5376, 534, 284, 10829, 440, 934, 1426, 7240, 6872, 22451, 8040, 264, 32565, 1050, 281, 24300, 23803, 334, 534, 284, 10829, 440, 746, 27155, 8326, 446, 7240, 280, 30957, 17, 326, 2565, 268, 5229, 340, 5376, 281, 2527, 7769, 37569, 1611, 18, 203, 22, 18, 21, 18, 22, 18, 14990, 394, 428, 32565, 1050, 281, 17828, 1399, 37569, 1611, 341, 31463, 3871, 23803, 334, 588, 47242, 682, 47284, 755, 13887, 458, 10513, 534, 613, 375, 383, 289, 1088, 3492, 1937, 13, 281, 3500, 43792, 46553, 1708, 37928, 4103, 280, 3634, 748, 289, 12295, 13717, 32565, 1050, 2562, 13154, 5229, 340, 8695, 3761, 7257, 8548, 281, 7012, 465, 3871, 534, 4375, 3492, 1937, 13, 332, 9027, 33345, 4453, 889, 6804, 884, 18, 203, 22, 18, 22, 18, 20174, 1159, 34617, 3500, 36574, 7573, 341, 28728, 20429, 272, 280, 33345, 4667, 889, 6804, 884, 341, 7936, 5036, 889, 6804, 884, 18, 203, 22, 18, 23, 18, 9754, 327, 45293, 10180, 289, 9427, 8809, 32565, 1050, 16, 281, 905, 3336, 27570, 582, 22734, 474, 22405, 10341, 40036, 17, 21, 281, 3500, 16, 21276, 20174, 14550, 281, 29484, 626, 18, 22, 11388, 20429, 264, 16, 6441, 624, 514, 331, 4529, 7824, 18, 1779, 847, 9427, 428, 32565, 1050, 281, 47242, 682, 47284, 755, 13887, 458, 10513, 534, 613, 375, 383, 289, 1088, 3492, 1937, 13, 19609, 17828, 1899, 37569, 1611, 4713, 2108, 3344, 534, 3567, 19987, 13, 281, 15419, 16, 1717, 7636, 280, 5229, 340, 8695, 281, 18061, 1939, 29436, 28718, 18054, 733, 16, 4205, 4746, 5229, 340, 8695, 289, 37569, 4152, 332, 9027, 33345, 4549, 889, 6804, 884, 582, 203, 21, 17, 323, 4633, 534, 3567, 1138, 13, 289, 332, 9027, 33345, 4313, 889, 6804, 884, 582, 626, 17, 323, 4633, 534, 3567, 1138, 888, 203, 22, 18, 24, 18, 27350, 9427, 8809, 27861, 30, 23983, 3761, 1063, 8193, 7276, 18, 203, 2], 'attention_mask': [1, 1, 1, 1, 1, 1, 1, 1, 1, 1, 1, 1, 1, 1, 1, 1, 1, 1, 1, 1, 1, 1, 1, 1, 1, 1, 1, 1, 1, 1, 1, 1, 1, 1, 1, 1, 1, 1, 1, 1, 1, 1, 1, 1, 1, 1, 1, 1, 1, 1, 1, 1, 1, 1, 1, 1, 1, 1, 1, 1, 1, 1, 1, 1, 1, 1, 1, 1, 1, 1, 1, 1, 1, 1, 1, 1, 1, 1, 1, 1, 1, 1, 1, 1, 1, 1, 1, 1, 1, 1, 1, 1, 1, 1, 1, 1, 1, 1, 1, 1, 1, 1, 1, 1, 1, 1, 1, 1, 1, 1, 1, 1, 1, 1, 1, 1, 1, 1, 1, 1, 1, 1, 1, 1, 1, 1, 1, 1, 1, 1, 1, 1, 1, 1, 1, 1, 1, 1, 1, 1, 1, 1, 1, 1, 1, 1, 1, 1, 1, 1, 1, 1, 1, 1, 1, 1, 1, 1, 1, 1, 1, 1, 1, 1, 1, 1, 1, 1, 1, 1, 1, 1, 1, 1, 1, 1, 1, 1, 1, 1, 1, 1, 1, 1, 1, 1, 1, 1, 1, 1, 1, 1, 1, 1, 1, 1, 1, 1, 1, 1, 1, 1, 1, 1, 1, 1, 1, 1, 1, 1, 1, 1, 1, 1, 1, 1, 1, 1, 1, 1, 1, 1, 1, 1, 1, 1, 1, 1, 1, 1, 1, 1, 1, 1, 1, 1, 1, 1, 1, 1, 1, 1, 1, 1, 1, 1, 1, 1, 1, 1, 1, 1, 1, 1, 1, 1, 1, 1, 1, 1, 1, 1, 1, 1, 1, 1, 1, 1, 1, 1, 1, 1, 1, 1, 1, 1, 1, 1, 1, 1, 1, 1, 1, 1, 1, 1, 1, 1, 1, 1, 1, 1, 1, 1, 1, 1, 1, 1, 1, 1, 1, 1, 1, 1, 1, 1, 1, 1, 1, 1, 1, 1, 1, 1, 1, 1, 1, 1, 1, 1, 1, 1, 1, 1, 1, 1, 1, 1, 1, 1, 1, 1, 1, 1, 1, 1, 1, 1, 1, 1, 1, 1, 1, 1, 1, 1, 1, 1, 1, 1, 1, 1, 1, 1, 1, 1, 1, 1]}"
      ]
     },
     "execution_count": 152,
     "metadata": {},
     "output_type": "execute_result"
    }
   ],
   "source": [
    "tokenizer(\"\"\"2.1. В соответствии с условиями настоящего Договора Заказчик поручает, а Исполнитель принимает на себя обязанности оказать Заказчику следующую совокупность услуг:\n",
    "\"\"\")"
   ]
  },
  {
   "cell_type": "code",
   "execution_count": 202,
   "id": "afda8bc3-1e69-438a-815f-aa00a327792c",
   "metadata": {},
   "outputs": [],
   "source": [
    "def preprocess_function(examples):\n",
    "    return tokenizer(examples['text'], truncation=True, max_length=512)\n"
   ]
  },
  {
   "cell_type": "code",
   "execution_count": 203,
   "id": "93466806-cb10-4356-ba15-2cbf2221f983",
   "metadata": {},
   "outputs": [
    {
     "data": {
      "application/vnd.jupyter.widget-view+json": {
       "model_id": "216374c7ca2a42a2b5246395d341e89b",
       "version_major": 2,
       "version_minor": 0
      },
      "text/plain": [
       "  0%|          | 0/1 [00:00<?, ?ba/s]"
      ]
     },
     "metadata": {},
     "output_type": "display_data"
    },
    {
     "data": {
      "application/vnd.jupyter.widget-view+json": {
       "model_id": "ba97311017bd4c689e234fd6dc344d5b",
       "version_major": 2,
       "version_minor": 0
      },
      "text/plain": [
       "  0%|          | 0/1 [00:00<?, ?ba/s]"
      ]
     },
     "metadata": {},
     "output_type": "display_data"
    },
    {
     "name": "stdout",
     "output_type": "stream",
     "text": [
      "Columns added by tokenizer: ['input_ids', 'attention_mask']\n"
     ]
    }
   ],
   "source": [
    "pre_tokenizer_columns = set(work_dataset[\"train\"].features)\n",
    "encoded_dataset = work_dataset.map(preprocess_function, batched=True)\n",
    "tokenizer_columns = list(set(encoded_dataset[\"train\"].features) - pre_tokenizer_columns)\n",
    "print(\"Columns added by tokenizer:\", tokenizer_columns)"
   ]
  },
  {
   "cell_type": "code",
   "execution_count": 204,
   "id": "3de361ca-db60-4ea5-9c30-658de99ee716",
   "metadata": {},
   "outputs": [
    {
     "data": {
      "text/plain": [
       "ClassLabel(num_classes=13, names=['Практика коммерческой логистики', 'Практика недропользования и экологии', 'Практика поддержки региональных, розничных продаж и клиентского сервиса', 'Практика правового сопровождения закупок МТР и услуг общего профиля', 'Практика правового сопровождения земельных отношений и сделок с недвижимым имуществом', 'Практика правового сопровождения операционной деятельности БРД', 'Практика правового сопровождения переработки и инфраструктуры', 'Практика правовой поддержки брендов', 'Практика правовой поддержки использования и коммерциализации ИС', 'Практика правовой поддержки создания и приобретения ИС', 'Практика промышленной безопасности и охраны труда', 'Практика финансового и конкурентного права', 'Практика экспорта, оптовых продаж и сбыта бизнес-единиц (БЕ)'], names_file=None, id=None)"
      ]
     },
     "execution_count": 204,
     "metadata": {},
     "output_type": "execute_result"
    }
   ],
   "source": [
    "encoded_dataset[\"train\"].features[\"path\"]"
   ]
  },
  {
   "cell_type": "code",
   "execution_count": 205,
   "id": "4d3541cb-5a09-4431-a9f9-aab8f84eef5e",
   "metadata": {},
   "outputs": [],
   "source": [
    "from transformers import DataCollatorWithPadding\n",
    "\n",
    "data_collator = DataCollatorWithPadding(tokenizer=tokenizer, return_tensors=\"tf\")\n",
    "\n",
    "\n",
    "tf_train_dataset = encoded_dataset[\"train\"].to_tf_dataset(\n",
    "    columns=tokenizer_columns,\n",
    "    label_cols=[\"path\"],\n",
    "    shuffle=True,\n",
    "    batch_size=16,\n",
    "    collate_fn=data_collator,\n",
    ")\n",
    "tf_validation_dataset = encoded_dataset[\"test\"].to_tf_dataset(\n",
    "    columns=tokenizer_columns,\n",
    "    label_cols=[\"path\"],\n",
    "    shuffle=False,\n",
    "    batch_size=16,\n",
    "    collate_fn=data_collator,\n",
    ")"
   ]
  },
  {
   "cell_type": "markdown",
   "id": "9759e683-21aa-47c3-bcea-795aeb3ca05a",
   "metadata": {},
   "source": [
    "## Fine-tuning the model"
   ]
  },
  {
   "cell_type": "code",
   "execution_count": 211,
   "id": "59183c69-70c1-4084-9b62-120ccbe8adb9",
   "metadata": {},
   "outputs": [
    {
     "name": "stderr",
     "output_type": "stream",
     "text": [
      "2021-12-10 08:04:55.887256: W tensorflow/core/common_runtime/bfc_allocator.cc:462] Allocator (GPU_0_bfc) ran out of memory trying to allocate 196.35MiB (rounded to 205885440)requested by op AddV2\n",
      "If the cause is memory fragmentation maybe the environment variable 'TF_GPU_ALLOCATOR=cuda_malloc_async' will improve the situation. \n",
      "Current allocation summary follows.\n",
      "Current allocation summary follows.\n",
      "2021-12-10 08:04:55.887274: I tensorflow/core/common_runtime/bfc_allocator.cc:1010] BFCAllocator dump for GPU_0_bfc\n",
      "2021-12-10 08:04:55.887281: I tensorflow/core/common_runtime/bfc_allocator.cc:1017] Bin (256): \tTotal Chunks: 10, Chunks in use: 10. 2.5KiB allocated for chunks. 2.5KiB in use in bin. 298B client-requested in use in bin.\n",
      "2021-12-10 08:04:55.887284: I tensorflow/core/common_runtime/bfc_allocator.cc:1017] Bin (512): \tTotal Chunks: 1, Chunks in use: 1. 768B allocated for chunks. 768B in use in bin. 584B client-requested in use in bin.\n",
      "2021-12-10 08:04:55.887287: I tensorflow/core/common_runtime/bfc_allocator.cc:1017] Bin (1024): \tTotal Chunks: 1, Chunks in use: 1. 1.2KiB allocated for chunks. 1.2KiB in use in bin. 1.0KiB client-requested in use in bin.\n",
      "2021-12-10 08:04:55.887290: I tensorflow/core/common_runtime/bfc_allocator.cc:1017] Bin (2048): \tTotal Chunks: 0, Chunks in use: 0. 0B allocated for chunks. 0B in use in bin. 0B client-requested in use in bin.\n",
      "2021-12-10 08:04:55.887294: I tensorflow/core/common_runtime/bfc_allocator.cc:1017] Bin (4096): \tTotal Chunks: 1, Chunks in use: 1. 5.2KiB allocated for chunks. 5.2KiB in use in bin. 5.1KiB client-requested in use in bin.\n",
      "2021-12-10 08:04:55.887296: I tensorflow/core/common_runtime/bfc_allocator.cc:1017] Bin (8192): \tTotal Chunks: 0, Chunks in use: 0. 0B allocated for chunks. 0B in use in bin. 0B client-requested in use in bin.\n",
      "2021-12-10 08:04:55.887299: I tensorflow/core/common_runtime/bfc_allocator.cc:1017] Bin (16384): \tTotal Chunks: 0, Chunks in use: 0. 0B allocated for chunks. 0B in use in bin. 0B client-requested in use in bin.\n",
      "2021-12-10 08:04:55.887305: I tensorflow/core/common_runtime/bfc_allocator.cc:1017] Bin (32768): \tTotal Chunks: 0, Chunks in use: 0. 0B allocated for chunks. 0B in use in bin. 0B client-requested in use in bin.\n",
      "2021-12-10 08:04:55.887309: I tensorflow/core/common_runtime/bfc_allocator.cc:1017] Bin (65536): \tTotal Chunks: 4, Chunks in use: 4. 256.0KiB allocated for chunks. 256.0KiB in use in bin. 256.0KiB client-requested in use in bin.\n",
      "2021-12-10 08:04:55.887311: I tensorflow/core/common_runtime/bfc_allocator.cc:1017] Bin (131072): \tTotal Chunks: 0, Chunks in use: 0. 0B allocated for chunks. 0B in use in bin. 0B client-requested in use in bin.\n",
      "2021-12-10 08:04:55.887314: I tensorflow/core/common_runtime/bfc_allocator.cc:1017] Bin (262144): \tTotal Chunks: 0, Chunks in use: 0. 0B allocated for chunks. 0B in use in bin. 0B client-requested in use in bin.\n",
      "2021-12-10 08:04:55.887317: I tensorflow/core/common_runtime/bfc_allocator.cc:1017] Bin (524288): \tTotal Chunks: 0, Chunks in use: 0. 0B allocated for chunks. 0B in use in bin. 0B client-requested in use in bin.\n",
      "2021-12-10 08:04:55.887319: I tensorflow/core/common_runtime/bfc_allocator.cc:1017] Bin (1048576): \tTotal Chunks: 0, Chunks in use: 0. 0B allocated for chunks. 0B in use in bin. 0B client-requested in use in bin.\n",
      "2021-12-10 08:04:55.887322: I tensorflow/core/common_runtime/bfc_allocator.cc:1017] Bin (2097152): \tTotal Chunks: 0, Chunks in use: 0. 0B allocated for chunks. 0B in use in bin. 0B client-requested in use in bin.\n",
      "2021-12-10 08:04:55.887325: I tensorflow/core/common_runtime/bfc_allocator.cc:1017] Bin (4194304): \tTotal Chunks: 0, Chunks in use: 0. 0B allocated for chunks. 0B in use in bin. 0B client-requested in use in bin.\n",
      "2021-12-10 08:04:55.887328: I tensorflow/core/common_runtime/bfc_allocator.cc:1017] Bin (8388608): \tTotal Chunks: 0, Chunks in use: 0. 0B allocated for chunks. 0B in use in bin. 0B client-requested in use in bin.\n",
      "2021-12-10 08:04:55.887330: I tensorflow/core/common_runtime/bfc_allocator.cc:1017] Bin (16777216): \tTotal Chunks: 0, Chunks in use: 0. 0B allocated for chunks. 0B in use in bin. 0B client-requested in use in bin.\n",
      "2021-12-10 08:04:55.887334: I tensorflow/core/common_runtime/bfc_allocator.cc:1017] Bin (33554432): \tTotal Chunks: 0, Chunks in use: 0. 0B allocated for chunks. 0B in use in bin. 0B client-requested in use in bin.\n",
      "2021-12-10 08:04:55.887337: I tensorflow/core/common_runtime/bfc_allocator.cc:1017] Bin (67108864): \tTotal Chunks: 0, Chunks in use: 0. 0B allocated for chunks. 0B in use in bin. 0B client-requested in use in bin.\n",
      "2021-12-10 08:04:55.887341: I tensorflow/core/common_runtime/bfc_allocator.cc:1017] Bin (134217728): \tTotal Chunks: 1, Chunks in use: 1. 196.35MiB allocated for chunks. 196.35MiB in use in bin. 196.35MiB client-requested in use in bin.\n",
      "2021-12-10 08:04:55.887344: I tensorflow/core/common_runtime/bfc_allocator.cc:1017] Bin (268435456): \tTotal Chunks: 1, Chunks in use: 1. 258.58MiB allocated for chunks. 258.58MiB in use in bin. 196.35MiB client-requested in use in bin.\n",
      "2021-12-10 08:04:55.887349: I tensorflow/core/common_runtime/bfc_allocator.cc:1033] Bin for 196.35MiB was 128.00MiB, Chunk State: \n",
      "2021-12-10 08:04:55.887351: I tensorflow/core/common_runtime/bfc_allocator.cc:1046] Next region of size 477298688\n",
      "2021-12-10 08:04:55.887357: I tensorflow/core/common_runtime/bfc_allocator.cc:1066] InUse at 7f4662000000 of size 1280 next 1\n",
      "2021-12-10 08:04:55.887360: I tensorflow/core/common_runtime/bfc_allocator.cc:1066] InUse at 7f4662000500 of size 65536 next 2\n",
      "2021-12-10 08:04:55.887362: I tensorflow/core/common_runtime/bfc_allocator.cc:1066] InUse at 7f4662010500 of size 65536 next 3\n",
      "2021-12-10 08:04:55.887365: I tensorflow/core/common_runtime/bfc_allocator.cc:1066] InUse at 7f4662020500 of size 256 next 4\n",
      "2021-12-10 08:04:55.887367: I tensorflow/core/common_runtime/bfc_allocator.cc:1066] InUse at 7f4662020600 of size 5376 next 5\n",
      "2021-12-10 08:04:55.887369: I tensorflow/core/common_runtime/bfc_allocator.cc:1066] InUse at 7f4662021b00 of size 256 next 6\n",
      "2021-12-10 08:04:55.887371: I tensorflow/core/common_runtime/bfc_allocator.cc:1066] InUse at 7f4662021c00 of size 256 next 7\n",
      "2021-12-10 08:04:55.887374: I tensorflow/core/common_runtime/bfc_allocator.cc:1066] InUse at 7f4662021d00 of size 256 next 8\n",
      "2021-12-10 08:04:55.887376: I tensorflow/core/common_runtime/bfc_allocator.cc:1066] InUse at 7f4662021e00 of size 256 next 9\n",
      "2021-12-10 08:04:55.887378: I tensorflow/core/common_runtime/bfc_allocator.cc:1066] InUse at 7f4662021f00 of size 256 next 10\n",
      "2021-12-10 08:04:55.887406: I tensorflow/core/common_runtime/bfc_allocator.cc:1066] InUse at 7f4662022000 of size 65536 next 11\n",
      "2021-12-10 08:04:55.887408: I tensorflow/core/common_runtime/bfc_allocator.cc:1066] InUse at 7f4662032000 of size 65536 next 12\n",
      "2021-12-10 08:04:55.887410: I tensorflow/core/common_runtime/bfc_allocator.cc:1066] InUse at 7f4662042000 of size 256 next 13\n",
      "2021-12-10 08:04:55.887412: I tensorflow/core/common_runtime/bfc_allocator.cc:1066] InUse at 7f4662042100 of size 768 next 14\n",
      "2021-12-10 08:04:55.887415: I tensorflow/core/common_runtime/bfc_allocator.cc:1066] InUse at 7f4662042400 of size 256 next 15\n",
      "2021-12-10 08:04:55.887417: I tensorflow/core/common_runtime/bfc_allocator.cc:1066] InUse at 7f4662042500 of size 256 next 16\n",
      "2021-12-10 08:04:55.887419: I tensorflow/core/common_runtime/bfc_allocator.cc:1066] InUse at 7f4662042600 of size 256 next 17\n",
      "2021-12-10 08:04:55.887421: I tensorflow/core/common_runtime/bfc_allocator.cc:1066] InUse at 7f4662042700 of size 205885440 next 18\n",
      "2021-12-10 08:04:55.887424: I tensorflow/core/common_runtime/bfc_allocator.cc:1066] InUse at 7f466e49b700 of size 271141120 next 18446744073709551615\n",
      "2021-12-10 08:04:55.887426: I tensorflow/core/common_runtime/bfc_allocator.cc:1071]      Summary of in-use Chunks by size: \n",
      "2021-12-10 08:04:55.887430: I tensorflow/core/common_runtime/bfc_allocator.cc:1074] 10 Chunks of size 256 totalling 2.5KiB\n",
      "2021-12-10 08:04:55.887432: I tensorflow/core/common_runtime/bfc_allocator.cc:1074] 1 Chunks of size 768 totalling 768B\n",
      "2021-12-10 08:04:55.887458: I tensorflow/core/common_runtime/bfc_allocator.cc:1074] 1 Chunks of size 1280 totalling 1.2KiB\n",
      "2021-12-10 08:04:55.887461: I tensorflow/core/common_runtime/bfc_allocator.cc:1074] 1 Chunks of size 5376 totalling 5.2KiB\n",
      "2021-12-10 08:04:55.887463: I tensorflow/core/common_runtime/bfc_allocator.cc:1074] 4 Chunks of size 65536 totalling 256.0KiB\n",
      "2021-12-10 08:04:55.887466: I tensorflow/core/common_runtime/bfc_allocator.cc:1074] 1 Chunks of size 205885440 totalling 196.35MiB\n",
      "2021-12-10 08:04:55.887469: I tensorflow/core/common_runtime/bfc_allocator.cc:1074] 1 Chunks of size 271141120 totalling 258.58MiB\n",
      "2021-12-10 08:04:55.887472: I tensorflow/core/common_runtime/bfc_allocator.cc:1078] Sum Total of in-use chunks: 455.19MiB\n",
      "2021-12-10 08:04:55.887474: I tensorflow/core/common_runtime/bfc_allocator.cc:1080] total_region_allocated_bytes_: 477298688 memory_limit_: 477298688 available bytes: 0 curr_region_allocation_bytes_: 954597376\n",
      "2021-12-10 08:04:55.887479: I tensorflow/core/common_runtime/bfc_allocator.cc:1086] Stats: \n",
      "Limit:                       477298688\n",
      "InUse:                       477298688\n",
      "MaxInUse:                    477298688\n",
      "NumAllocs:                          19\n",
      "MaxAllocSize:                271141120\n",
      "Reserved:                            0\n",
      "PeakReserved:                        0\n",
      "LargestFreeBlock:                    0\n",
      "\n",
      "2021-12-10 08:04:55.887483: W tensorflow/core/common_runtime/bfc_allocator.cc:474] ***************************************************************************************xxxxxxxxxxxxx\n",
      "2021-12-10 08:04:55.887514: W tensorflow/core/framework/op_kernel.cc:1733] RESOURCE_EXHAUSTED: failed to allocate memory\n"
     ]
    },
    {
     "ename": "ResourceExhaustedError",
     "evalue": "Exception encountered when calling layer \"roberta\" (type TFRobertaMainLayer).\n\nfailed to allocate memory [Op:AddV2]\n\nCall arguments received:\n  • input_ids=tf.Tensor(shape=(3, 5), dtype=int32)\n  • attention_mask=None\n  • token_type_ids=None\n  • position_ids=None\n  • head_mask=None\n  • inputs_embeds=None\n  • encoder_hidden_states=None\n  • encoder_attention_mask=None\n  • past_key_values=None\n  • use_cache=None\n  • output_attentions=False\n  • output_hidden_states=False\n  • return_dict=True\n  • training=False\n  • kwargs=<class 'inspect._empty'>",
     "output_type": "error",
     "traceback": [
      "\u001b[0;31m---------------------------------------------------------------------------\u001b[0m",
      "\u001b[0;31mResourceExhaustedError\u001b[0m                    Traceback (most recent call last)",
      "\u001b[0;32m/tmp/ipykernel_170018/1081327485.py\u001b[0m in \u001b[0;36m<module>\u001b[0;34m\u001b[0m\n\u001b[1;32m      5\u001b[0m \u001b[0mnum_labels\u001b[0m \u001b[0;34m=\u001b[0m \u001b[0mcategories_feature\u001b[0m\u001b[0;34m.\u001b[0m\u001b[0mnum_classes\u001b[0m\u001b[0;34m\u001b[0m\u001b[0;34m\u001b[0m\u001b[0m\n\u001b[1;32m      6\u001b[0m \u001b[0;34m\u001b[0m\u001b[0m\n\u001b[0;32m----> 7\u001b[0;31m model = TFAutoModelForSequenceClassification.from_pretrained(\n\u001b[0m\u001b[1;32m      8\u001b[0m     \u001b[0mmodel_checkpoint\u001b[0m\u001b[0;34m,\u001b[0m \u001b[0mnum_labels\u001b[0m\u001b[0;34m=\u001b[0m\u001b[0mnum_labels\u001b[0m\u001b[0;34m,\u001b[0m \u001b[0mfrom_pt\u001b[0m\u001b[0;34m=\u001b[0m\u001b[0;32mTrue\u001b[0m\u001b[0;34m\u001b[0m\u001b[0;34m\u001b[0m\u001b[0m\n\u001b[1;32m      9\u001b[0m )\n",
      "\u001b[0;32m~/doc-classifier/.venv/lib/python3.8/site-packages/transformers/models/auto/auto_factory.py\u001b[0m in \u001b[0;36mfrom_pretrained\u001b[0;34m(cls, pretrained_model_name_or_path, *model_args, **kwargs)\u001b[0m\n\u001b[1;32m    417\u001b[0m         \u001b[0;32melif\u001b[0m \u001b[0mtype\u001b[0m\u001b[0;34m(\u001b[0m\u001b[0mconfig\u001b[0m\u001b[0;34m)\u001b[0m \u001b[0;32min\u001b[0m \u001b[0mcls\u001b[0m\u001b[0;34m.\u001b[0m\u001b[0m_model_mapping\u001b[0m\u001b[0;34m.\u001b[0m\u001b[0mkeys\u001b[0m\u001b[0;34m(\u001b[0m\u001b[0;34m)\u001b[0m\u001b[0;34m:\u001b[0m\u001b[0;34m\u001b[0m\u001b[0;34m\u001b[0m\u001b[0m\n\u001b[1;32m    418\u001b[0m             \u001b[0mmodel_class\u001b[0m \u001b[0;34m=\u001b[0m \u001b[0m_get_model_class\u001b[0m\u001b[0;34m(\u001b[0m\u001b[0mconfig\u001b[0m\u001b[0;34m,\u001b[0m \u001b[0mcls\u001b[0m\u001b[0;34m.\u001b[0m\u001b[0m_model_mapping\u001b[0m\u001b[0;34m)\u001b[0m\u001b[0;34m\u001b[0m\u001b[0;34m\u001b[0m\u001b[0m\n\u001b[0;32m--> 419\u001b[0;31m             \u001b[0;32mreturn\u001b[0m \u001b[0mmodel_class\u001b[0m\u001b[0;34m.\u001b[0m\u001b[0mfrom_pretrained\u001b[0m\u001b[0;34m(\u001b[0m\u001b[0mpretrained_model_name_or_path\u001b[0m\u001b[0;34m,\u001b[0m \u001b[0;34m*\u001b[0m\u001b[0mmodel_args\u001b[0m\u001b[0;34m,\u001b[0m \u001b[0mconfig\u001b[0m\u001b[0;34m=\u001b[0m\u001b[0mconfig\u001b[0m\u001b[0;34m,\u001b[0m \u001b[0;34m**\u001b[0m\u001b[0mkwargs\u001b[0m\u001b[0;34m)\u001b[0m\u001b[0;34m\u001b[0m\u001b[0;34m\u001b[0m\u001b[0m\n\u001b[0m\u001b[1;32m    420\u001b[0m         raise ValueError(\n\u001b[1;32m    421\u001b[0m             \u001b[0;34mf\"Unrecognized configuration class {config.__class__} for this kind of AutoModel: {cls.__name__}.\\n\"\u001b[0m\u001b[0;34m\u001b[0m\u001b[0;34m\u001b[0m\u001b[0m\n",
      "\u001b[0;32m~/doc-classifier/.venv/lib/python3.8/site-packages/transformers/modeling_tf_utils.py\u001b[0m in \u001b[0;36mfrom_pretrained\u001b[0;34m(cls, pretrained_model_name_or_path, *model_args, **kwargs)\u001b[0m\n\u001b[1;32m   1458\u001b[0m \u001b[0;34m\u001b[0m\u001b[0m\n\u001b[1;32m   1459\u001b[0m             \u001b[0;31m# Load from a PyTorch checkpoint\u001b[0m\u001b[0;34m\u001b[0m\u001b[0;34m\u001b[0m\u001b[0;34m\u001b[0m\u001b[0m\n\u001b[0;32m-> 1460\u001b[0;31m             \u001b[0;32mreturn\u001b[0m \u001b[0mload_pytorch_checkpoint_in_tf2_model\u001b[0m\u001b[0;34m(\u001b[0m\u001b[0mmodel\u001b[0m\u001b[0;34m,\u001b[0m \u001b[0mresolved_archive_file\u001b[0m\u001b[0;34m,\u001b[0m \u001b[0mallow_missing_keys\u001b[0m\u001b[0;34m=\u001b[0m\u001b[0;32mTrue\u001b[0m\u001b[0;34m)\u001b[0m\u001b[0;34m\u001b[0m\u001b[0;34m\u001b[0m\u001b[0m\n\u001b[0m\u001b[1;32m   1461\u001b[0m \u001b[0;34m\u001b[0m\u001b[0m\n\u001b[1;32m   1462\u001b[0m         \u001b[0;31m# we might need to extend the variable scope for composite models\u001b[0m\u001b[0;34m\u001b[0m\u001b[0;34m\u001b[0m\u001b[0;34m\u001b[0m\u001b[0m\n",
      "\u001b[0;32m~/doc-classifier/.venv/lib/python3.8/site-packages/transformers/modeling_tf_pytorch_utils.py\u001b[0m in \u001b[0;36mload_pytorch_checkpoint_in_tf2_model\u001b[0;34m(tf_model, pytorch_checkpoint_path, tf_inputs, allow_missing_keys)\u001b[0m\n\u001b[1;32m    104\u001b[0m     \u001b[0mlogger\u001b[0m\u001b[0;34m.\u001b[0m\u001b[0minfo\u001b[0m\u001b[0;34m(\u001b[0m\u001b[0;34mf\"PyTorch checkpoint contains {sum(t.numel() for t in pt_state_dict.values()):,} parameters\"\u001b[0m\u001b[0;34m)\u001b[0m\u001b[0;34m\u001b[0m\u001b[0;34m\u001b[0m\u001b[0m\n\u001b[1;32m    105\u001b[0m \u001b[0;34m\u001b[0m\u001b[0m\n\u001b[0;32m--> 106\u001b[0;31m     return load_pytorch_weights_in_tf2_model(\n\u001b[0m\u001b[1;32m    107\u001b[0m         \u001b[0mtf_model\u001b[0m\u001b[0;34m,\u001b[0m \u001b[0mpt_state_dict\u001b[0m\u001b[0;34m,\u001b[0m \u001b[0mtf_inputs\u001b[0m\u001b[0;34m=\u001b[0m\u001b[0mtf_inputs\u001b[0m\u001b[0;34m,\u001b[0m \u001b[0mallow_missing_keys\u001b[0m\u001b[0;34m=\u001b[0m\u001b[0mallow_missing_keys\u001b[0m\u001b[0;34m\u001b[0m\u001b[0;34m\u001b[0m\u001b[0m\n\u001b[1;32m    108\u001b[0m     )\n",
      "\u001b[0;32m~/doc-classifier/.venv/lib/python3.8/site-packages/transformers/modeling_tf_pytorch_utils.py\u001b[0m in \u001b[0;36mload_pytorch_weights_in_tf2_model\u001b[0;34m(tf_model, pt_state_dict, tf_inputs, allow_missing_keys)\u001b[0m\n\u001b[1;32m    135\u001b[0m \u001b[0;34m\u001b[0m\u001b[0m\n\u001b[1;32m    136\u001b[0m     \u001b[0;32mif\u001b[0m \u001b[0mtf_inputs\u001b[0m \u001b[0;32mis\u001b[0m \u001b[0;32mnot\u001b[0m \u001b[0;32mNone\u001b[0m\u001b[0;34m:\u001b[0m\u001b[0;34m\u001b[0m\u001b[0;34m\u001b[0m\u001b[0m\n\u001b[0;32m--> 137\u001b[0;31m         \u001b[0mtf_model\u001b[0m\u001b[0;34m(\u001b[0m\u001b[0mtf_inputs\u001b[0m\u001b[0;34m,\u001b[0m \u001b[0mtraining\u001b[0m\u001b[0;34m=\u001b[0m\u001b[0;32mFalse\u001b[0m\u001b[0;34m)\u001b[0m  \u001b[0;31m# Make sure model is built\u001b[0m\u001b[0;34m\u001b[0m\u001b[0;34m\u001b[0m\u001b[0m\n\u001b[0m\u001b[1;32m    138\u001b[0m     \u001b[0;31m# Adapt state dict - TODO remove this and update the AWS weights files instead\u001b[0m\u001b[0;34m\u001b[0m\u001b[0;34m\u001b[0m\u001b[0;34m\u001b[0m\u001b[0m\n\u001b[1;32m    139\u001b[0m     \u001b[0;31m# Convert old format to new format if needed from a PyTorch state_dict\u001b[0m\u001b[0;34m\u001b[0m\u001b[0;34m\u001b[0m\u001b[0;34m\u001b[0m\u001b[0m\n",
      "\u001b[0;32m~/doc-classifier/.venv/lib/python3.8/site-packages/keras/utils/traceback_utils.py\u001b[0m in \u001b[0;36merror_handler\u001b[0;34m(*args, **kwargs)\u001b[0m\n\u001b[1;32m     65\u001b[0m     \u001b[0;32mexcept\u001b[0m \u001b[0mException\u001b[0m \u001b[0;32mas\u001b[0m \u001b[0me\u001b[0m\u001b[0;34m:\u001b[0m  \u001b[0;31m# pylint: disable=broad-except\u001b[0m\u001b[0;34m\u001b[0m\u001b[0;34m\u001b[0m\u001b[0m\n\u001b[1;32m     66\u001b[0m       \u001b[0mfiltered_tb\u001b[0m \u001b[0;34m=\u001b[0m \u001b[0m_process_traceback_frames\u001b[0m\u001b[0;34m(\u001b[0m\u001b[0me\u001b[0m\u001b[0;34m.\u001b[0m\u001b[0m__traceback__\u001b[0m\u001b[0;34m)\u001b[0m\u001b[0;34m\u001b[0m\u001b[0;34m\u001b[0m\u001b[0m\n\u001b[0;32m---> 67\u001b[0;31m       \u001b[0;32mraise\u001b[0m \u001b[0me\u001b[0m\u001b[0;34m.\u001b[0m\u001b[0mwith_traceback\u001b[0m\u001b[0;34m(\u001b[0m\u001b[0mfiltered_tb\u001b[0m\u001b[0;34m)\u001b[0m \u001b[0;32mfrom\u001b[0m \u001b[0;32mNone\u001b[0m\u001b[0;34m\u001b[0m\u001b[0;34m\u001b[0m\u001b[0m\n\u001b[0m\u001b[1;32m     68\u001b[0m     \u001b[0;32mfinally\u001b[0m\u001b[0;34m:\u001b[0m\u001b[0;34m\u001b[0m\u001b[0;34m\u001b[0m\u001b[0m\n\u001b[1;32m     69\u001b[0m       \u001b[0;32mdel\u001b[0m \u001b[0mfiltered_tb\u001b[0m\u001b[0;34m\u001b[0m\u001b[0;34m\u001b[0m\u001b[0m\n",
      "\u001b[0;32m~/doc-classifier/.venv/lib/python3.8/site-packages/transformers/models/roberta/modeling_tf_roberta.py\u001b[0m in \u001b[0;36mcall\u001b[0;34m(self, input_ids, attention_mask, token_type_ids, position_ids, head_mask, inputs_embeds, output_attentions, output_hidden_states, return_dict, labels, training, **kwargs)\u001b[0m\n\u001b[1;32m   1435\u001b[0m             \u001b[0mkwargs_call\u001b[0m\u001b[0;34m=\u001b[0m\u001b[0mkwargs\u001b[0m\u001b[0;34m,\u001b[0m\u001b[0;34m\u001b[0m\u001b[0;34m\u001b[0m\u001b[0m\n\u001b[1;32m   1436\u001b[0m         )\n\u001b[0;32m-> 1437\u001b[0;31m         outputs = self.roberta(\n\u001b[0m\u001b[1;32m   1438\u001b[0m             \u001b[0minputs\u001b[0m\u001b[0;34m[\u001b[0m\u001b[0;34m\"input_ids\"\u001b[0m\u001b[0;34m]\u001b[0m\u001b[0;34m,\u001b[0m\u001b[0;34m\u001b[0m\u001b[0;34m\u001b[0m\u001b[0m\n\u001b[1;32m   1439\u001b[0m             \u001b[0mattention_mask\u001b[0m\u001b[0;34m=\u001b[0m\u001b[0minputs\u001b[0m\u001b[0;34m[\u001b[0m\u001b[0;34m\"attention_mask\"\u001b[0m\u001b[0;34m]\u001b[0m\u001b[0;34m,\u001b[0m\u001b[0;34m\u001b[0m\u001b[0;34m\u001b[0m\u001b[0m\n",
      "\u001b[0;32m~/doc-classifier/.venv/lib/python3.8/site-packages/transformers/models/roberta/modeling_tf_roberta.py\u001b[0m in \u001b[0;36mcall\u001b[0;34m(self, input_ids, attention_mask, token_type_ids, position_ids, head_mask, inputs_embeds, encoder_hidden_states, encoder_attention_mask, past_key_values, use_cache, output_attentions, output_hidden_states, return_dict, training, **kwargs)\u001b[0m\n\u001b[1;32m    674\u001b[0m             \u001b[0minputs\u001b[0m\u001b[0;34m[\u001b[0m\u001b[0;34m\"token_type_ids\"\u001b[0m\u001b[0;34m]\u001b[0m \u001b[0;34m=\u001b[0m \u001b[0mtf\u001b[0m\u001b[0;34m.\u001b[0m\u001b[0mfill\u001b[0m\u001b[0;34m(\u001b[0m\u001b[0mdims\u001b[0m\u001b[0;34m=\u001b[0m\u001b[0minput_shape\u001b[0m\u001b[0;34m,\u001b[0m \u001b[0mvalue\u001b[0m\u001b[0;34m=\u001b[0m\u001b[0;36m0\u001b[0m\u001b[0;34m)\u001b[0m\u001b[0;34m\u001b[0m\u001b[0;34m\u001b[0m\u001b[0m\n\u001b[1;32m    675\u001b[0m \u001b[0;34m\u001b[0m\u001b[0m\n\u001b[0;32m--> 676\u001b[0;31m         embedding_output = self.embeddings(\n\u001b[0m\u001b[1;32m    677\u001b[0m             \u001b[0minput_ids\u001b[0m\u001b[0;34m=\u001b[0m\u001b[0minputs\u001b[0m\u001b[0;34m[\u001b[0m\u001b[0;34m\"input_ids\"\u001b[0m\u001b[0;34m]\u001b[0m\u001b[0;34m,\u001b[0m\u001b[0;34m\u001b[0m\u001b[0;34m\u001b[0m\u001b[0m\n\u001b[1;32m    678\u001b[0m             \u001b[0mposition_ids\u001b[0m\u001b[0;34m=\u001b[0m\u001b[0minputs\u001b[0m\u001b[0;34m[\u001b[0m\u001b[0;34m\"position_ids\"\u001b[0m\u001b[0;34m]\u001b[0m\u001b[0;34m,\u001b[0m\u001b[0;34m\u001b[0m\u001b[0;34m\u001b[0m\u001b[0m\n",
      "\u001b[0;32m~/doc-classifier/.venv/lib/python3.8/site-packages/transformers/models/roberta/modeling_tf_roberta.py\u001b[0m in \u001b[0;36mbuild\u001b[0;34m(self, input_shape)\u001b[0m\n\u001b[1;32m     94\u001b[0m     \u001b[0;32mdef\u001b[0m \u001b[0mbuild\u001b[0m\u001b[0;34m(\u001b[0m\u001b[0mself\u001b[0m\u001b[0;34m,\u001b[0m \u001b[0minput_shape\u001b[0m\u001b[0;34m:\u001b[0m \u001b[0mtf\u001b[0m\u001b[0;34m.\u001b[0m\u001b[0mTensorShape\u001b[0m\u001b[0;34m)\u001b[0m\u001b[0;34m:\u001b[0m\u001b[0;34m\u001b[0m\u001b[0;34m\u001b[0m\u001b[0m\n\u001b[1;32m     95\u001b[0m         \u001b[0;32mwith\u001b[0m \u001b[0mtf\u001b[0m\u001b[0;34m.\u001b[0m\u001b[0mname_scope\u001b[0m\u001b[0;34m(\u001b[0m\u001b[0;34m\"word_embeddings\"\u001b[0m\u001b[0;34m)\u001b[0m\u001b[0;34m:\u001b[0m\u001b[0;34m\u001b[0m\u001b[0;34m\u001b[0m\u001b[0m\n\u001b[0;32m---> 96\u001b[0;31m             self.weight = self.add_weight(\n\u001b[0m\u001b[1;32m     97\u001b[0m                 \u001b[0mname\u001b[0m\u001b[0;34m=\u001b[0m\u001b[0;34m\"weight\"\u001b[0m\u001b[0;34m,\u001b[0m\u001b[0;34m\u001b[0m\u001b[0;34m\u001b[0m\u001b[0m\n\u001b[1;32m     98\u001b[0m                 \u001b[0mshape\u001b[0m\u001b[0;34m=\u001b[0m\u001b[0;34m[\u001b[0m\u001b[0mself\u001b[0m\u001b[0;34m.\u001b[0m\u001b[0mvocab_size\u001b[0m\u001b[0;34m,\u001b[0m \u001b[0mself\u001b[0m\u001b[0;34m.\u001b[0m\u001b[0mhidden_size\u001b[0m\u001b[0;34m]\u001b[0m\u001b[0;34m,\u001b[0m\u001b[0;34m\u001b[0m\u001b[0;34m\u001b[0m\u001b[0m\n",
      "\u001b[0;31mResourceExhaustedError\u001b[0m: Exception encountered when calling layer \"roberta\" (type TFRobertaMainLayer).\n\nfailed to allocate memory [Op:AddV2]\n\nCall arguments received:\n  • input_ids=tf.Tensor(shape=(3, 5), dtype=int32)\n  • attention_mask=None\n  • token_type_ids=None\n  • position_ids=None\n  • head_mask=None\n  • inputs_embeds=None\n  • encoder_hidden_states=None\n  • encoder_attention_mask=None\n  • past_key_values=None\n  • use_cache=None\n  • output_attentions=False\n  • output_hidden_states=False\n  • return_dict=True\n  • training=False\n  • kwargs=<class 'inspect._empty'>"
     ]
    }
   ],
   "source": [
    "from transformers import TFAutoModelForSequenceClassification\n",
    "import tensorflow as tf\n",
    "\n",
    "loss = tf.keras.losses.SparseCategoricalCrossentropy(from_logits=True)\n",
    "num_labels = categories_feature.num_classes\n",
    "\n",
    "model = TFAutoModelForSequenceClassification.from_pretrained(\n",
    "    model_checkpoint, num_labels=num_labels, from_pt=True\n",
    ")"
   ]
  },
  {
   "cell_type": "code",
   "execution_count": null,
   "id": "40a672e5-2fb0-4558-a961-fe858900ad1c",
   "metadata": {},
   "outputs": [],
   "source": []
  }
 ],
 "metadata": {
  "kernelspec": {
   "display_name": "Python 3 (ipykernel)",
   "language": "python",
   "name": "python3"
  },
  "language_info": {
   "codemirror_mode": {
    "name": "ipython",
    "version": 3
   },
   "file_extension": ".py",
   "mimetype": "text/x-python",
   "name": "python",
   "nbconvert_exporter": "python",
   "pygments_lexer": "ipython3",
   "version": "3.8.10"
  }
 },
 "nbformat": 4,
 "nbformat_minor": 5
}
