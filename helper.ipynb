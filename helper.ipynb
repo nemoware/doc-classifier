{
 "cells": [
  {
   "cell_type": "code",
   "execution_count": 88,
   "outputs": [],
   "source": [
    "import tensorflow as tf\n",
    "from transformers import AutoTokenizer, TFAutoModelForSequenceClassification\n",
    "import platform\n",
    "import sys\n",
    "import os\n",
    "import json\n",
    "import subprocess\n",
    "import pandas as pd\n",
    "import fnmatch\n",
    "import base64\n",
    "import requests\n",
    "import time\n",
    "import seaborn as sns\n",
    "import matplotlib.pyplot as plt\n",
    "import numpy as np\n",
    "import importlib\n",
    "import search_text"
   ],
   "metadata": {
    "collapsed": false,
    "pycharm": {
     "name": "#%%\n"
    }
   }
  },
  {
   "cell_type": "code",
   "execution_count": 89,
   "outputs": [
    {
     "name": "stderr",
     "output_type": "stream",
     "text": [
      "All model checkpoint layers were used when initializing TFRobertaForSequenceClassification.\n",
      "\n",
      "All the layers of TFRobertaForSequenceClassification were initialized from the model checkpoint at ./doc-classification/.\n",
      "If your task is similar to the task the model of the checkpoint was trained on, you can already use TFRobertaForSequenceClassification for predictions without further training.\n"
     ]
    }
   ],
   "source": [
    "model_checkpoint2 = \"sberbank-ai/ruRoberta-large\"\n",
    "path_to_model = \"./doc-classification/\"\n",
    "\n",
    "labels = ['Практика коммерческой логистики',\n",
    "          'Практика недропользования и экологии',\n",
    "          'Практика поддержки региональных, розничных продаж и клиентского сервиса',\n",
    "          'Практика правового сопровождения закупок МТР и услуг общего профиля',\n",
    "          'Практика правового сопровождения земельных отношений и сделок с недвижимым имуществом',\n",
    "          'Практика правового сопровождения операционной деятельности БРД',\n",
    "          'Практика правового сопровождения переработки и инфраструктуры',\n",
    "          'Практика правовой поддержки брендов',\n",
    "          'Практика правовой поддержки использования и коммерциализации ИС',\n",
    "          'Практика правовой поддержки создания и приобретения ИС',\n",
    "          'Практика промышленной безопасности и охраны труда',\n",
    "          'Практика финансового и конкурентного права',\n",
    "          'Практика экспорта, оптовых продаж и сбыта бизнес-единиц (БЕ)']\n",
    "\n",
    "model = TFAutoModelForSequenceClassification.from_pretrained(\n",
    "    str(path_to_model), num_labels=len(labels), from_pt=False\n",
    ")\n",
    "tokenizer = AutoTokenizer.from_pretrained(str(model_checkpoint2))"
   ],
   "metadata": {
    "collapsed": false,
    "pycharm": {
     "name": "#%%\n"
    }
   }
  },
  {
   "cell_type": "code",
   "execution_count": 94,
   "outputs": [],
   "source": [
    "arrOfAllDocs = []\n",
    "\n",
    "for root, dir_names, filenames in os.walk(\n",
    "        'Документы\\Входящие по практикам\\Практика недропользования и экологии'):\n",
    "    if len(root.split('\\\\')) == 2: continue\n",
    "    flag = False\n",
    "    for i in root.split('\\\\'):\n",
    "        if str(i).startswith('Исключена'):\n",
    "            flag = True\n",
    "            break\n",
    "    if flag: continue\n",
    "    for filename in fnmatch.filter(filenames, '*.docx'):\n",
    "        arrOfAllDocs.append(os.path.join(root, filename))\n",
    "    for filename in fnmatch.filter(filenames, '*.doc'):\n",
    "        arrOfAllDocs.append(os.path.join(root, filename))\n"
   ],
   "metadata": {
    "collapsed": false,
    "pycharm": {
     "name": "#%%\n"
    }
   }
  },
  {
   "cell_type": "code",
   "execution_count": 105,
   "outputs": [
    {
     "name": "stdout",
     "output_type": "stream",
     "text": [
      " фототаблица к акту проверки.docx Ind = 52 from 52 between 1200 and 1500n 400 and 700een 1200 and 15001500and 1500"
     ]
    }
   ],
   "source": [
    "def get_json_from_parser(path, filename):\n",
    "    result = \"\"\n",
    "    headers = {\n",
    "        'Content-type': 'application/json',\n",
    "        'Accept': 'application/json; text/plain'\n",
    "    }\n",
    "    try:\n",
    "        doc = open(path, 'rb')\n",
    "        encoded_string = base64.b64encode(doc.read())\n",
    "        encoded_string = str(encoded_string)[2:-1]\n",
    "    except Exception as e:\n",
    "        print(f\"\\nОшибка в файле {path}\")\n",
    "        print(f\"при конвертации в base64, исключение = {e}\")\n",
    "        print(\"=\" * 100)\n",
    "        return\n",
    "    is_doc = True\n",
    "    is_docx = True\n",
    "    is_bad_doc = False\n",
    "    doc_type = filename.split(\".\")[-1].upper()\n",
    "    while is_doc or is_docx:\n",
    "        # \"http://localhost:8889/document-parser\"\n",
    "        # \"http://192.168.10.36:8889/document-parser\"\n",
    "        response = requests.post(\n",
    "            \"http://192.168.10.36:8889/document-parser\",\n",
    "            data=json.dumps({\n",
    "                \"base64Content\": encoded_string,\n",
    "                \"documentFileType\": doc_type\n",
    "            }),\n",
    "            headers=headers\n",
    "        )\n",
    "        if 'message' in response.json():\n",
    "            if doc_type == 'DOC':\n",
    "                is_doc = False\n",
    "                doc_type = 'DOCX'\n",
    "                continue\n",
    "            if doc_type == 'DOCX':\n",
    "                is_docx = False\n",
    "                doc_type = 'DOC'\n",
    "                continue\n",
    "\n",
    "        try:\n",
    "            result = response.json()['documents']\n",
    "        except Exception as e:\n",
    "            print(e)\n",
    "            return\n",
    "        finally:\n",
    "            is_doc = False\n",
    "            is_docx = False\n",
    "\n",
    "    return result\n",
    "\n",
    "\n",
    "path_to_doc = 'Документы\\Входящие по практикам\\Практика недропользования и экологии\\НТУ ФАР предписание № 04-2021 от 07.12.2021.docx'\n",
    "\n",
    "array_of_max_value = []\n",
    "for global_index, path in enumerate(arrOfAllDocs):\n",
    "    filename = path.split('\\\\')[-1]\n",
    "    doc_from_parser = get_json_from_parser(path, filename)[0]\n",
    "\n",
    "    all_text = ''.join(\n",
    "        paragraph['paragraphBody']['text'] for paragraph in doc_from_parser['paragraphs'])\n",
    "\n",
    "    first = 0\n",
    "    last = 300\n",
    "    array_of_all_text = all_text.split()\n",
    "    array_of_predicate_results = []\n",
    "\n",
    "    while first < len(array_of_all_text) and last < 1600:\n",
    "\n",
    "        sys.stdout.write(\n",
    "            f\"\\r {filename} Ind = {global_index} from {len(arrOfAllDocs) - 1} between {first} and {last}\")\n",
    "        sys.stdout.flush()\n",
    "        text = ''.join(array_of_all_text[first:last])\n",
    "        tokens = tokenizer(text, truncation=True, max_length=512)\n",
    "        predictions = model.predict([tokens['input_ids']])['logits']\n",
    "        predictions = tf.nn.softmax(predictions, name=None)[0].numpy()\n",
    "        local_result = []\n",
    "        for index, item in enumerate(predictions):\n",
    "            if index == 1:\n",
    "                # str(labels[index]) +\n",
    "                array_of_predicate_results.append({\n",
    "                    'item': f'{first} and {last} and {filename}',\n",
    "                    'count': item\n",
    "                })\n",
    "        # array_of_predicate_results.append(local_result)\n",
    "        first += 100\n",
    "        last += 100\n",
    "    array_of_max_value.append(max(array_of_predicate_results, key=lambda x: x['count']))"
   ],
   "metadata": {
    "collapsed": false,
    "pycharm": {
     "name": "#%%\n"
    }
   }
  },
  {
   "cell_type": "code",
   "execution_count": 107,
   "outputs": [
    {
     "data": {
      "text/plain": "[{'item': '600 and 900 and 000071 от 12.01.22.docx', 'count': 0.9876395},\n {'item': '0 and 300 and 000102 от 13.01.22.docx', 'count': 0.7914866},\n {'item': '1000 and 1300 and 000110 от 14.01.22.docx', 'count': 0.98864657},\n {'item': '1200 and 1500 and 000200 от 18.01.2022.docx', 'count': 0.9471102},\n {'item': '100 and 400 and 000200 прил.docx', 'count': 0.039697614},\n {'item': '400 and 700 and 005014.docx', 'count': 0.123865016},\n {'item': '0 and 300 and 02.09.2021_03_4-17625_Шустовских_А.В._б_а.docx',\n  'count': 0.34279013},\n {'item': '200 and 500 and 17.05.2021_03_4-9454_Петров_А.Д._Огородов_А.В_.docx',\n  'count': 0.85868204},\n {'item': '0 and 300 and 21.12.2021_03_4-25885_Зарубин_Д.М._Огородов_А.В..docx',\n  'count': 0.9443092},\n {'item': '200 and 500 and 25.05.2021_03_4-10056_Антипкина_И.И._Огородов_А.В..docx',\n  'count': 0.3702205},\n {'item': '600 and 900 and 296 от 25.05.2021.docx', 'count': 0.9744917},\n {'item': '1200 and 1500 and акт проверки 1.docx', 'count': 0.9297537},\n {'item': '700 and 1000 and акт проверки 2.docx', 'count': 0.92308664},\n {'item': '300 and 600 and акт проверки 3.docx', 'count': 0.91227454},\n {'item': '1200 and 1500 and акт проверки 4.docx', 'count': 0.14469802},\n {'item': '200 and 500 and акт проверки 5.docx', 'count': 0.9784177},\n {'item': '700 and 1000 and акт проверки 6.docx', 'count': 0.9773197},\n {'item': '100 and 400 and акт проверки 7.docx', 'count': 0.97621626},\n {'item': '100 and 400 and Акт проверки ООО Газпромнефть Ямал.docx',\n  'count': 0.9818007},\n {'item': '100 and 400 and Акт проверки ООО Газпромнефть Ямал0001.docx',\n  'count': 0.9818007},\n {'item': '400 and 700 and Акт проверки № 109 от 28.05.2021.docx',\n  'count': 0.979567},\n {'item': '800 and 1100 and Доп запрос №03 от 17.05.docx', 'count': 0.9674325},\n {'item': '1100 and 1400 and Запрос.docx', 'count': 0.7502312},\n {'item': '700 and 1000 and Исх №1882 от 22.12.2021 2.docx',\n  'count': 0.98192114},\n {'item': '300 and 600 and НТУ ФАР предписание № 04-2021 от 07.12.2021.docx',\n  'count': 0.9185212},\n {'item': '600 and 900 and предписание 1.docx', 'count': 0.9231867},\n {'item': '200 and 500 and Предписание 2.docx', 'count': 0.9761405},\n {'item': '600 and 900 and Предписание 3.docx', 'count': 0.9892763},\n {'item': '600 and 900 and Предписание №47 от 28.05.2021.docx',\n  'count': 0.98925227},\n {'item': '300 and 600 and предписание.docx', 'count': 0.9185212},\n {'item': '600 and 900 and Приказ об изменении_296 от 25.05.2021.docx',\n  'count': 0.9744917},\n {'item': '1000 and 1300 and Приказ РПН от 28.04.2021 №226.docx',\n  'count': 0.9828067},\n {'item': '400 and 700 and Программа проверок  № 8 2 этап +.docx',\n  'count': 0.29074705},\n {'item': '400 and 700 and Программа проверок  № 9 3 этап +.docx',\n  'count': 0.92071354},\n {'item': '200 and 500 and Пролтокол на юр. лицо.docx', 'count': 0.9175814},\n {'item': '200 and 500 and Пртокол на долж лицо.docx', 'count': 0.9555746},\n {'item': '200 and 500 and Пртокол на долж лицо0001.docx', 'count': 0.9555746},\n {'item': '1200 and 1500 and Распоряжение №95-р от 06.04.2021 (плановая выездная проверка РПН).docx',\n  'count': 0.9811431},\n {'item': '1200 and 1500 and Распоряжение №95-р от 06.04.2021 (плановая выездная проверка РПН)0001.docx',\n  'count': 0.9811431},\n {'item': '1000 and 1300 and решение 106-рш от 09.09.2021 Меретояханефтегаз.docx',\n  'count': 0.9854972},\n {'item': '500 and 800 and Решение 76-рш от 01.09.2021 Мессояханефтегаз программа №8.docx',\n  'count': 0.95548207},\n {'item': '500 and 800 and Решение 76-рш от 01.09.2021 Мессояханефтегаз программа №80001.docx',\n  'count': 0.95548207},\n {'item': '700 and 1000 and Решение 77-рш от 01.09.2021 Мессояханефтегаз программа №9.docx',\n  'count': 0.9693925},\n {'item': '0 and 300 and Сопровод на протокол долж лицо.docx',\n  'count': 0.40282372},\n {'item': '0 and 300 and Сопровод на протокол на юр. лицо.docx',\n  'count': 0.5536647},\n {'item': '0 and 300 and сопроводительное меретояха.docx', 'count': 0.5291818},\n {'item': '0 and 300 and сопроводительное меретояха0001.docx',\n  'count': 0.5291818},\n {'item': '100 and 400 and уведомление 2791.docx', 'count': 0.52070045},\n {'item': '100 and 400 and уведомление 27910001.docx', 'count': 0.52070045},\n {'item': '100 and 400 and уведомление 2792.docx', 'count': 0.7928219},\n {'item': '100 and 400 and уведомление 27920001.docx', 'count': 0.7928219},\n {'item': '0 and 300 and уведомление ООО ННК плановая  сентябрь.doc.docx',\n  'count': 0.10471924},\n {'item': '0 and 300 and фототаблица к акту проверки.docx',\n  'count': 0.28115824}]"
     },
     "execution_count": 107,
     "metadata": {},
     "output_type": "execute_result"
    }
   ],
   "source": [
    "array_of_max_value"
   ],
   "metadata": {
    "collapsed": false,
    "pycharm": {
     "name": "#%%\n"
    }
   }
  },
  {
   "cell_type": "code",
   "execution_count": 110,
   "outputs": [
    {
     "data": {
      "text/plain": "[{'item': '600  900 ', 'count': 0.9876395},\n {'item': '0  300 ', 'count': 0.7914866},\n {'item': '1000  1300 ', 'count': 0.98864657},\n {'item': '1200  1500 ', 'count': 0.9471102},\n {'item': '100  400 ', 'count': 0.039697614},\n {'item': '400  700 ', 'count': 0.123865016},\n {'item': '0  300 ', 'count': 0.34279013},\n {'item': '200  500 ', 'count': 0.85868204},\n {'item': '0  300 ', 'count': 0.9443092},\n {'item': '200  500 ', 'count': 0.3702205},\n {'item': '600  900 ', 'count': 0.9744917},\n {'item': '1200  1500 ', 'count': 0.9297537},\n {'item': '700  1000 ', 'count': 0.92308664},\n {'item': '300  600 ', 'count': 0.91227454},\n {'item': '1200  1500 ', 'count': 0.14469802},\n {'item': '200  500 ', 'count': 0.9784177},\n {'item': '700  1000 ', 'count': 0.9773197},\n {'item': '100  400 ', 'count': 0.97621626},\n {'item': '100  400 ', 'count': 0.9818007},\n {'item': '100  400 ', 'count': 0.9818007},\n {'item': '400  700 ', 'count': 0.979567},\n {'item': '800  1100 ', 'count': 0.9674325},\n {'item': '1100  1400 ', 'count': 0.7502312},\n {'item': '700  1000 ', 'count': 0.98192114},\n {'item': '300  600 ', 'count': 0.9185212},\n {'item': '600  900 ', 'count': 0.9231867},\n {'item': '200  500 ', 'count': 0.9761405},\n {'item': '600  900 ', 'count': 0.9892763},\n {'item': '600  900 ', 'count': 0.98925227},\n {'item': '300  600 ', 'count': 0.9185212},\n {'item': '600  900 ', 'count': 0.9744917},\n {'item': '1000  1300 ', 'count': 0.9828067},\n {'item': '400  700 ', 'count': 0.29074705},\n {'item': '400  700 ', 'count': 0.92071354},\n {'item': '200  500 ', 'count': 0.9175814},\n {'item': '200  500 ', 'count': 0.9555746},\n {'item': '200  500 ', 'count': 0.9555746},\n {'item': '1200  1500 ', 'count': 0.9811431},\n {'item': '1200  1500 ', 'count': 0.9811431},\n {'item': '1000  1300 ', 'count': 0.9854972},\n {'item': '500  800 ', 'count': 0.95548207},\n {'item': '500  800 ', 'count': 0.95548207},\n {'item': '700  1000 ', 'count': 0.9693925},\n {'item': '0  300 ', 'count': 0.40282372},\n {'item': '0  300 ', 'count': 0.5536647},\n {'item': '0  300 ', 'count': 0.5291818},\n {'item': '0  300 ', 'count': 0.5291818},\n {'item': '100  400 ', 'count': 0.52070045},\n {'item': '100  400 ', 'count': 0.52070045},\n {'item': '100  400 ', 'count': 0.7928219},\n {'item': '100  400 ', 'count': 0.7928219},\n {'item': '0  300 ', 'count': 0.10471924},\n {'item': '0  300 ', 'count': 0.28115824}]"
     },
     "execution_count": 110,
     "metadata": {},
     "output_type": "execute_result"
    }
   ],
   "source": [
    "array_of_max_value2 = list(map(lambda x: {'item':''.join(x['item'].split('and')[:-1]),'count': x['count'] }, array_of_max_value))\n",
    "array_of_max_value2"
   ],
   "metadata": {
    "collapsed": false,
    "pycharm": {
     "name": "#%%\n"
    }
   }
  },
  {
   "cell_type": "code",
   "execution_count": 112,
   "outputs": [
    {
     "data": {
      "text/plain": "Text(0.5, 1.0, 'Входящие по практикам\\\\Практика недропользования и экологии')"
     },
     "execution_count": 112,
     "metadata": {},
     "output_type": "execute_result"
    },
    {
     "data": {
      "text/plain": "<Figure size 1080x1080 with 1 Axes>",
      "image/png": "[encoded data removed]"
     },
     "metadata": {
      "needs_background": "light"
     },
     "output_type": "display_data"
    }
   ],
   "source": [
    "# for result in array_of_predicate_results:\n",
    "plt.figure(figsize=(15, 15))\n",
    "sns.countplot(y=\"item\", data=pd.DataFrame(array_of_max_value2))\n",
    "plt.title(\"Входящие по практикам\\Практика недропользования и экологии\")"
   ],
   "metadata": {
    "collapsed": false,
    "pycharm": {
     "name": "#%%\n"
    }
   }
  },
  {
   "cell_type": "code",
   "execution_count": 72,
   "outputs": [
    {
     "data": {
      "text/plain": "[[{'item': 'Практика коммерческой логистики0', 'count': 0.009574678},\n  {'item': 'Практика недропользования и экологии0', 'count': 0.14946997},\n  {'item': 'Практика поддержки региональных, розничных продаж и клиентского сервиса0',\n   'count': 0.22888534},\n  {'item': 'Практика правового сопровождения закупок МТР и услуг общего профиля0',\n   'count': 0.08696125},\n  {'item': 'Практика правового сопровождения земельных отношений и сделок с недвижимым имуществом0',\n   'count': 0.043741476},\n  {'item': 'Практика правового сопровождения операционной деятельности БРД0',\n   'count': 0.008032016},\n  {'item': 'Практика правового сопровождения переработки и инфраструктуры0',\n   'count': 0.0040743034},\n  {'item': 'Практика правовой поддержки брендов0', 'count': 0.3566384},\n  {'item': 'Практика правовой поддержки использования и коммерциализации ИС0',\n   'count': 0.03023498},\n  {'item': 'Практика правовой поддержки создания и приобретения ИС0',\n   'count': 0.0056980844},\n  {'item': 'Практика промышленной безопасности и охраны труда0',\n   'count': 0.019499512},\n  {'item': 'Практика финансового и конкурентного права0',\n   'count': 0.040577307},\n  {'item': 'Практика экспорта, оптовых продаж и сбыта бизнес-единиц (БЕ)0',\n   'count': 0.01661269}],\n [{'item': 'Практика коммерческой логистики100', 'count': 0.009586315},\n  {'item': 'Практика недропользования и экологии100', 'count': 0.09030439},\n  {'item': 'Практика поддержки региональных, розничных продаж и клиентского сервиса100',\n   'count': 0.10184266},\n  {'item': 'Практика правового сопровождения закупок МТР и услуг общего профиля100',\n   'count': 0.09278934},\n  {'item': 'Практика правового сопровождения земельных отношений и сделок с недвижимым имуществом100',\n   'count': 0.22121294},\n  {'item': 'Практика правового сопровождения операционной деятельности БРД100',\n   'count': 0.04925582},\n  {'item': 'Практика правового сопровождения переработки и инфраструктуры100',\n   'count': 0.031183029},\n  {'item': 'Практика правовой поддержки брендов100', 'count': 0.19131587},\n  {'item': 'Практика правовой поддержки использования и коммерциализации ИС100',\n   'count': 0.07131741},\n  {'item': 'Практика правовой поддержки создания и приобретения ИС100',\n   'count': 0.021557726},\n  {'item': 'Практика промышленной безопасности и охраны труда100',\n   'count': 0.019179836},\n  {'item': 'Практика финансового и конкурентного права100',\n   'count': 0.07328226},\n  {'item': 'Практика экспорта, оптовых продаж и сбыта бизнес-единиц (БЕ)100',\n   'count': 0.027172418}],\n [{'item': 'Практика коммерческой логистики200', 'count': 0.0028674274},\n  {'item': 'Практика недропользования и экологии200', 'count': 0.8483232},\n  {'item': 'Практика поддержки региональных, розничных продаж и клиентского сервиса200',\n   'count': 0.00558989},\n  {'item': 'Практика правового сопровождения закупок МТР и услуг общего профиля200',\n   'count': 0.0057940916},\n  {'item': 'Практика правового сопровождения земельных отношений и сделок с недвижимым имуществом200',\n   'count': 0.0083118},\n  {'item': 'Практика правового сопровождения операционной деятельности БРД200',\n   'count': 0.09569116},\n  {'item': 'Практика правового сопровождения переработки и инфраструктуры200',\n   'count': 0.0059472383},\n  {'item': 'Практика правовой поддержки брендов200', 'count': 0.0044663837},\n  {'item': 'Практика правовой поддержки использования и коммерциализации ИС200',\n   'count': 0.005668174},\n  {'item': 'Практика правовой поддержки создания и приобретения ИС200',\n   'count': 0.008740495},\n  {'item': 'Практика промышленной безопасности и охраны труда200',\n   'count': 0.0034740919},\n  {'item': 'Практика финансового и конкурентного права200',\n   'count': 0.0025328149},\n  {'item': 'Практика экспорта, оптовых продаж и сбыта бизнес-единиц (БЕ)200',\n   'count': 0.0025930938}],\n [{'item': 'Практика коммерческой логистики300', 'count': 0.0017342118},\n  {'item': 'Практика недропользования и экологии300', 'count': 0.9185212},\n  {'item': 'Практика поддержки региональных, розничных продаж и клиентского сервиса300',\n   'count': 0.008596502},\n  {'item': 'Практика правового сопровождения закупок МТР и услуг общего профиля300',\n   'count': 0.0060135718},\n  {'item': 'Практика правового сопровождения земельных отношений и сделок с недвижимым имуществом300',\n   'count': 0.0029101858},\n  {'item': 'Практика правового сопровождения операционной деятельности БРД300',\n   'count': 0.039383348},\n  {'item': 'Практика правового сопровождения переработки и инфраструктуры300',\n   'count': 0.0033430436},\n  {'item': 'Практика правовой поддержки брендов300', 'count': 0.0028630123},\n  {'item': 'Практика правовой поддержки использования и коммерциализации ИС300',\n   'count': 0.0039004232},\n  {'item': 'Практика правовой поддержки создания и приобретения ИС300',\n   'count': 0.0040569804},\n  {'item': 'Практика промышленной безопасности и охраны труда300',\n   'count': 0.0043850164},\n  {'item': 'Практика финансового и конкурентного права300',\n   'count': 0.0019638622},\n  {'item': 'Практика экспорта, оптовых продаж и сбыта бизнес-единиц (БЕ)300',\n   'count': 0.0023286939}],\n [{'item': 'Практика коммерческой логистики400', 'count': 0.023228819},\n  {'item': 'Практика недропользования и экологии400', 'count': 0.02768186},\n  {'item': 'Практика поддержки региональных, розничных продаж и клиентского сервиса400',\n   'count': 0.0806825},\n  {'item': 'Практика правового сопровождения закупок МТР и услуг общего профиля400',\n   'count': 0.47359163},\n  {'item': 'Практика правового сопровождения земельных отношений и сделок с недвижимым имуществом400',\n   'count': 0.018982945},\n  {'item': 'Практика правового сопровождения операционной деятельности БРД400',\n   'count': 0.023414928},\n  {'item': 'Практика правового сопровождения переработки и инфраструктуры400',\n   'count': 0.023654055},\n  {'item': 'Практика правовой поддержки брендов400', 'count': 0.03887449},\n  {'item': 'Практика правовой поддержки использования и коммерциализации ИС400',\n   'count': 0.028513005},\n  {'item': 'Практика правовой поддержки создания и приобретения ИС400',\n   'count': 0.019632522},\n  {'item': 'Практика промышленной безопасности и охраны труда400',\n   'count': 0.19428943},\n  {'item': 'Практика финансового и конкурентного права400',\n   'count': 0.019501911},\n  {'item': 'Практика экспорта, оптовых продаж и сбыта бизнес-единиц (БЕ)400',\n   'count': 0.027951973}]]"
     },
     "execution_count": 72,
     "metadata": {},
     "output_type": "execute_result"
    }
   ],
   "source": [
    "array_of_predicate_results"
   ],
   "metadata": {
    "collapsed": false,
    "pycharm": {
     "name": "#%%\n"
    }
   }
  }
 ],
 "metadata": {
  "kernelspec": {
   "display_name": "Python 3",
   "language": "python",
   "name": "python3"
  },
  "language_info": {
   "codemirror_mode": {
    "name": "ipython",
    "version": 2
   },
   "file_extension": ".py",
   "mimetype": "text/x-python",
   "name": "python",
   "nbconvert_exporter": "python",
   "pygments_lexer": "ipython2",
   "version": "2.7.6"
  }
 },
 "nbformat": 4,
 "nbformat_minor": 0
}